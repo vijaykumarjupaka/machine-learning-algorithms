{
 "cells": [
  {
   "cell_type": "code",
   "execution_count": 1,
   "id": "37d87b82",
   "metadata": {},
   "outputs": [],
   "source": [
    "import numpy as np\n",
    "import pandas as pd\n",
    "from sklearn.linear_model import ElasticNet\n",
    "from sklearn.model_selection import train_test_split\n",
    "from sklearn.metrics import r2_score"
   ]
  },
  {
   "cell_type": "code",
   "execution_count": 2,
   "id": "221eba19",
   "metadata": {},
   "outputs": [
    {
     "data": {
      "text/html": [
       "<div>\n",
       "<style scoped>\n",
       "    .dataframe tbody tr th:only-of-type {\n",
       "        vertical-align: middle;\n",
       "    }\n",
       "\n",
       "    .dataframe tbody tr th {\n",
       "        vertical-align: top;\n",
       "    }\n",
       "\n",
       "    .dataframe thead th {\n",
       "        text-align: right;\n",
       "    }\n",
       "</style>\n",
       "<table border=\"1\" class=\"dataframe\">\n",
       "  <thead>\n",
       "    <tr style=\"text-align: right;\">\n",
       "      <th></th>\n",
       "      <th>Month</th>\n",
       "      <th>Year</th>\n",
       "      <th>Total Orders</th>\n",
       "      <th>Gross Sales</th>\n",
       "      <th>Discounts</th>\n",
       "      <th>Returns</th>\n",
       "      <th>Net Sales</th>\n",
       "      <th>Shipping</th>\n",
       "      <th>Total Sales</th>\n",
       "    </tr>\n",
       "  </thead>\n",
       "  <tbody>\n",
       "    <tr>\n",
       "      <th>0</th>\n",
       "      <td>January</td>\n",
       "      <td>2017</td>\n",
       "      <td>73</td>\n",
       "      <td>8861.50</td>\n",
       "      <td>-129.40</td>\n",
       "      <td>-448.45</td>\n",
       "      <td>8283.65</td>\n",
       "      <td>1088.30</td>\n",
       "      <td>9371.95</td>\n",
       "    </tr>\n",
       "    <tr>\n",
       "      <th>1</th>\n",
       "      <td>February</td>\n",
       "      <td>2017</td>\n",
       "      <td>56</td>\n",
       "      <td>6908.50</td>\n",
       "      <td>-104.70</td>\n",
       "      <td>-416.20</td>\n",
       "      <td>6387.60</td>\n",
       "      <td>892.45</td>\n",
       "      <td>7280.05</td>\n",
       "    </tr>\n",
       "    <tr>\n",
       "      <th>2</th>\n",
       "      <td>March</td>\n",
       "      <td>2017</td>\n",
       "      <td>60</td>\n",
       "      <td>5778.50</td>\n",
       "      <td>-172.20</td>\n",
       "      <td>-1017.20</td>\n",
       "      <td>4589.10</td>\n",
       "      <td>707.43</td>\n",
       "      <td>5296.53</td>\n",
       "    </tr>\n",
       "    <tr>\n",
       "      <th>3</th>\n",
       "      <td>April</td>\n",
       "      <td>2017</td>\n",
       "      <td>70</td>\n",
       "      <td>8814.00</td>\n",
       "      <td>-281.40</td>\n",
       "      <td>0.00</td>\n",
       "      <td>8532.60</td>\n",
       "      <td>1068.30</td>\n",
       "      <td>9600.90</td>\n",
       "    </tr>\n",
       "    <tr>\n",
       "      <th>4</th>\n",
       "      <td>May</td>\n",
       "      <td>2017</td>\n",
       "      <td>54</td>\n",
       "      <td>6677.00</td>\n",
       "      <td>-185.75</td>\n",
       "      <td>-253.80</td>\n",
       "      <td>6237.45</td>\n",
       "      <td>866.46</td>\n",
       "      <td>7103.91</td>\n",
       "    </tr>\n",
       "    <tr>\n",
       "      <th>5</th>\n",
       "      <td>June</td>\n",
       "      <td>2017</td>\n",
       "      <td>68</td>\n",
       "      <td>9621.50</td>\n",
       "      <td>-234.45</td>\n",
       "      <td>-17.50</td>\n",
       "      <td>9369.55</td>\n",
       "      <td>1204.32</td>\n",
       "      <td>10573.87</td>\n",
       "    </tr>\n",
       "    <tr>\n",
       "      <th>6</th>\n",
       "      <td>July</td>\n",
       "      <td>2017</td>\n",
       "      <td>66</td>\n",
       "      <td>6480.00</td>\n",
       "      <td>-51.50</td>\n",
       "      <td>-469.20</td>\n",
       "      <td>5959.30</td>\n",
       "      <td>807.36</td>\n",
       "      <td>6766.66</td>\n",
       "    </tr>\n",
       "    <tr>\n",
       "      <th>7</th>\n",
       "      <td>August</td>\n",
       "      <td>2017</td>\n",
       "      <td>55</td>\n",
       "      <td>8025.00</td>\n",
       "      <td>-258.90</td>\n",
       "      <td>-26.00</td>\n",
       "      <td>7740.10</td>\n",
       "      <td>843.46</td>\n",
       "      <td>8583.56</td>\n",
       "    </tr>\n",
       "    <tr>\n",
       "      <th>8</th>\n",
       "      <td>September</td>\n",
       "      <td>2017</td>\n",
       "      <td>68</td>\n",
       "      <td>7075.00</td>\n",
       "      <td>-61.70</td>\n",
       "      <td>-281.00</td>\n",
       "      <td>6732.30</td>\n",
       "      <td>907.32</td>\n",
       "      <td>7639.62</td>\n",
       "    </tr>\n",
       "    <tr>\n",
       "      <th>9</th>\n",
       "      <td>October</td>\n",
       "      <td>2017</td>\n",
       "      <td>59</td>\n",
       "      <td>5720.00</td>\n",
       "      <td>-88.00</td>\n",
       "      <td>-305.00</td>\n",
       "      <td>5327.00</td>\n",
       "      <td>695.42</td>\n",
       "      <td>6022.42</td>\n",
       "    </tr>\n",
       "    <tr>\n",
       "      <th>10</th>\n",
       "      <td>November</td>\n",
       "      <td>2017</td>\n",
       "      <td>91</td>\n",
       "      <td>13025.00</td>\n",
       "      <td>-131.30</td>\n",
       "      <td>-323.85</td>\n",
       "      <td>12569.85</td>\n",
       "      <td>1555.10</td>\n",
       "      <td>14124.95</td>\n",
       "    </tr>\n",
       "    <tr>\n",
       "      <th>11</th>\n",
       "      <td>December</td>\n",
       "      <td>2017</td>\n",
       "      <td>116</td>\n",
       "      <td>10356.05</td>\n",
       "      <td>-149.85</td>\n",
       "      <td>-414.20</td>\n",
       "      <td>9792.00</td>\n",
       "      <td>1340.85</td>\n",
       "      <td>11132.85</td>\n",
       "    </tr>\n",
       "    <tr>\n",
       "      <th>12</th>\n",
       "      <td>January</td>\n",
       "      <td>2018</td>\n",
       "      <td>83</td>\n",
       "      <td>8923.00</td>\n",
       "      <td>-217.10</td>\n",
       "      <td>-26.25</td>\n",
       "      <td>8679.65</td>\n",
       "      <td>1180.18</td>\n",
       "      <td>9859.83</td>\n",
       "    </tr>\n",
       "    <tr>\n",
       "      <th>13</th>\n",
       "      <td>February</td>\n",
       "      <td>2018</td>\n",
       "      <td>69</td>\n",
       "      <td>6529.20</td>\n",
       "      <td>-161.35</td>\n",
       "      <td>-118.15</td>\n",
       "      <td>6249.70</td>\n",
       "      <td>908.91</td>\n",
       "      <td>7158.61</td>\n",
       "    </tr>\n",
       "    <tr>\n",
       "      <th>14</th>\n",
       "      <td>March</td>\n",
       "      <td>2018</td>\n",
       "      <td>64</td>\n",
       "      <td>7442.70</td>\n",
       "      <td>-226.82</td>\n",
       "      <td>-8.80</td>\n",
       "      <td>7207.08</td>\n",
       "      <td>1226.92</td>\n",
       "      <td>8434.00</td>\n",
       "    </tr>\n",
       "    <tr>\n",
       "      <th>15</th>\n",
       "      <td>April</td>\n",
       "      <td>2018</td>\n",
       "      <td>81</td>\n",
       "      <td>9406.35</td>\n",
       "      <td>-232.28</td>\n",
       "      <td>-40.00</td>\n",
       "      <td>9134.07</td>\n",
       "      <td>1387.56</td>\n",
       "      <td>10521.63</td>\n",
       "    </tr>\n",
       "    <tr>\n",
       "      <th>16</th>\n",
       "      <td>May</td>\n",
       "      <td>2018</td>\n",
       "      <td>82</td>\n",
       "      <td>7493.90</td>\n",
       "      <td>-221.25</td>\n",
       "      <td>-1448.02</td>\n",
       "      <td>5824.63</td>\n",
       "      <td>1234.95</td>\n",
       "      <td>7059.58</td>\n",
       "    </tr>\n",
       "    <tr>\n",
       "      <th>17</th>\n",
       "      <td>June</td>\n",
       "      <td>2018</td>\n",
       "      <td>124</td>\n",
       "      <td>13260.80</td>\n",
       "      <td>-335.40</td>\n",
       "      <td>-1506.53</td>\n",
       "      <td>11418.87</td>\n",
       "      <td>2124.49</td>\n",
       "      <td>13543.36</td>\n",
       "    </tr>\n",
       "    <tr>\n",
       "      <th>18</th>\n",
       "      <td>July</td>\n",
       "      <td>2018</td>\n",
       "      <td>102</td>\n",
       "      <td>9274.95</td>\n",
       "      <td>-237.87</td>\n",
       "      <td>-689.98</td>\n",
       "      <td>8347.10</td>\n",
       "      <td>1627.03</td>\n",
       "      <td>9974.13</td>\n",
       "    </tr>\n",
       "    <tr>\n",
       "      <th>19</th>\n",
       "      <td>August</td>\n",
       "      <td>2018</td>\n",
       "      <td>82</td>\n",
       "      <td>7698.70</td>\n",
       "      <td>-140.57</td>\n",
       "      <td>-197.35</td>\n",
       "      <td>7360.78</td>\n",
       "      <td>1404.03</td>\n",
       "      <td>8764.81</td>\n",
       "    </tr>\n",
       "    <tr>\n",
       "      <th>20</th>\n",
       "      <td>September</td>\n",
       "      <td>2018</td>\n",
       "      <td>79</td>\n",
       "      <td>10582.85</td>\n",
       "      <td>-276.15</td>\n",
       "      <td>0.00</td>\n",
       "      <td>10306.70</td>\n",
       "      <td>1634.33</td>\n",
       "      <td>11941.03</td>\n",
       "    </tr>\n",
       "    <tr>\n",
       "      <th>21</th>\n",
       "      <td>October</td>\n",
       "      <td>2018</td>\n",
       "      <td>71</td>\n",
       "      <td>7014.50</td>\n",
       "      <td>-277.95</td>\n",
       "      <td>-294.75</td>\n",
       "      <td>6441.80</td>\n",
       "      <td>1262.45</td>\n",
       "      <td>7704.25</td>\n",
       "    </tr>\n",
       "    <tr>\n",
       "      <th>22</th>\n",
       "      <td>November</td>\n",
       "      <td>2018</td>\n",
       "      <td>140</td>\n",
       "      <td>12002.70</td>\n",
       "      <td>-414.45</td>\n",
       "      <td>-154.40</td>\n",
       "      <td>11433.85</td>\n",
       "      <td>2237.05</td>\n",
       "      <td>13670.90</td>\n",
       "    </tr>\n",
       "    <tr>\n",
       "      <th>23</th>\n",
       "      <td>December</td>\n",
       "      <td>2018</td>\n",
       "      <td>164</td>\n",
       "      <td>13683.50</td>\n",
       "      <td>-371.20</td>\n",
       "      <td>-928.35</td>\n",
       "      <td>12383.95</td>\n",
       "      <td>2552.20</td>\n",
       "      <td>14936.15</td>\n",
       "    </tr>\n",
       "    <tr>\n",
       "      <th>24</th>\n",
       "      <td>January</td>\n",
       "      <td>2019</td>\n",
       "      <td>87</td>\n",
       "      <td>7811.75</td>\n",
       "      <td>-261.97</td>\n",
       "      <td>-1250.35</td>\n",
       "      <td>6299.43</td>\n",
       "      <td>1313.78</td>\n",
       "      <td>7615.91</td>\n",
       "    </tr>\n",
       "    <tr>\n",
       "      <th>25</th>\n",
       "      <td>February</td>\n",
       "      <td>2019</td>\n",
       "      <td>63</td>\n",
       "      <td>6523.70</td>\n",
       "      <td>-288.70</td>\n",
       "      <td>-38.70</td>\n",
       "      <td>6196.30</td>\n",
       "      <td>1121.85</td>\n",
       "      <td>7318.15</td>\n",
       "    </tr>\n",
       "    <tr>\n",
       "      <th>26</th>\n",
       "      <td>March</td>\n",
       "      <td>2019</td>\n",
       "      <td>99</td>\n",
       "      <td>13075.50</td>\n",
       "      <td>-439.85</td>\n",
       "      <td>-981.00</td>\n",
       "      <td>11654.65</td>\n",
       "      <td>2115.10</td>\n",
       "      <td>13769.75</td>\n",
       "    </tr>\n",
       "    <tr>\n",
       "      <th>27</th>\n",
       "      <td>April</td>\n",
       "      <td>2019</td>\n",
       "      <td>92</td>\n",
       "      <td>6977.00</td>\n",
       "      <td>-285.40</td>\n",
       "      <td>-10.00</td>\n",
       "      <td>6681.60</td>\n",
       "      <td>1342.45</td>\n",
       "      <td>8024.05</td>\n",
       "    </tr>\n",
       "    <tr>\n",
       "      <th>28</th>\n",
       "      <td>May</td>\n",
       "      <td>2019</td>\n",
       "      <td>96</td>\n",
       "      <td>10082.25</td>\n",
       "      <td>-460.90</td>\n",
       "      <td>-173.35</td>\n",
       "      <td>9448.00</td>\n",
       "      <td>1768.20</td>\n",
       "      <td>11216.20</td>\n",
       "    </tr>\n",
       "    <tr>\n",
       "      <th>29</th>\n",
       "      <td>June</td>\n",
       "      <td>2019</td>\n",
       "      <td>85</td>\n",
       "      <td>7321.75</td>\n",
       "      <td>-186.02</td>\n",
       "      <td>-165.40</td>\n",
       "      <td>6970.33</td>\n",
       "      <td>1356.80</td>\n",
       "      <td>8327.13</td>\n",
       "    </tr>\n",
       "    <tr>\n",
       "      <th>30</th>\n",
       "      <td>July</td>\n",
       "      <td>2019</td>\n",
       "      <td>94</td>\n",
       "      <td>9739.20</td>\n",
       "      <td>-447.07</td>\n",
       "      <td>-908.75</td>\n",
       "      <td>8383.38</td>\n",
       "      <td>1631.40</td>\n",
       "      <td>10014.78</td>\n",
       "    </tr>\n",
       "    <tr>\n",
       "      <th>31</th>\n",
       "      <td>August</td>\n",
       "      <td>2019</td>\n",
       "      <td>105</td>\n",
       "      <td>8839.50</td>\n",
       "      <td>-201.67</td>\n",
       "      <td>-84.37</td>\n",
       "      <td>8553.46</td>\n",
       "      <td>1724.75</td>\n",
       "      <td>10278.21</td>\n",
       "    </tr>\n",
       "    <tr>\n",
       "      <th>32</th>\n",
       "      <td>September</td>\n",
       "      <td>2019</td>\n",
       "      <td>88</td>\n",
       "      <td>9077.45</td>\n",
       "      <td>-354.89</td>\n",
       "      <td>-853.35</td>\n",
       "      <td>7869.21</td>\n",
       "      <td>1567.65</td>\n",
       "      <td>9436.86</td>\n",
       "    </tr>\n",
       "    <tr>\n",
       "      <th>33</th>\n",
       "      <td>October</td>\n",
       "      <td>2019</td>\n",
       "      <td>97</td>\n",
       "      <td>9132.25</td>\n",
       "      <td>-279.42</td>\n",
       "      <td>-1572.55</td>\n",
       "      <td>7280.28</td>\n",
       "      <td>1631.25</td>\n",
       "      <td>8911.53</td>\n",
       "    </tr>\n",
       "    <tr>\n",
       "      <th>34</th>\n",
       "      <td>November</td>\n",
       "      <td>2019</td>\n",
       "      <td>272</td>\n",
       "      <td>23997.90</td>\n",
       "      <td>-776.84</td>\n",
       "      <td>-364.51</td>\n",
       "      <td>22856.55</td>\n",
       "      <td>4824.75</td>\n",
       "      <td>27681.30</td>\n",
       "    </tr>\n",
       "    <tr>\n",
       "      <th>35</th>\n",
       "      <td>December</td>\n",
       "      <td>2019</td>\n",
       "      <td>342</td>\n",
       "      <td>31183.90</td>\n",
       "      <td>-2269.51</td>\n",
       "      <td>-1311.18</td>\n",
       "      <td>27603.21</td>\n",
       "      <td>5703.25</td>\n",
       "      <td>33306.46</td>\n",
       "    </tr>\n",
       "  </tbody>\n",
       "</table>\n",
       "</div>"
      ],
      "text/plain": [
       "        Month  Year  Total Orders  Gross Sales  Discounts  Returns  Net Sales  \\\n",
       "0     January  2017            73      8861.50    -129.40  -448.45    8283.65   \n",
       "1    February  2017            56      6908.50    -104.70  -416.20    6387.60   \n",
       "2       March  2017            60      5778.50    -172.20 -1017.20    4589.10   \n",
       "3       April  2017            70      8814.00    -281.40     0.00    8532.60   \n",
       "4         May  2017            54      6677.00    -185.75  -253.80    6237.45   \n",
       "5        June  2017            68      9621.50    -234.45   -17.50    9369.55   \n",
       "6        July  2017            66      6480.00     -51.50  -469.20    5959.30   \n",
       "7      August  2017            55      8025.00    -258.90   -26.00    7740.10   \n",
       "8   September  2017            68      7075.00     -61.70  -281.00    6732.30   \n",
       "9     October  2017            59      5720.00     -88.00  -305.00    5327.00   \n",
       "10   November  2017            91     13025.00    -131.30  -323.85   12569.85   \n",
       "11   December  2017           116     10356.05    -149.85  -414.20    9792.00   \n",
       "12    January  2018            83      8923.00    -217.10   -26.25    8679.65   \n",
       "13   February  2018            69      6529.20    -161.35  -118.15    6249.70   \n",
       "14      March  2018            64      7442.70    -226.82    -8.80    7207.08   \n",
       "15      April  2018            81      9406.35    -232.28   -40.00    9134.07   \n",
       "16        May  2018            82      7493.90    -221.25 -1448.02    5824.63   \n",
       "17       June  2018           124     13260.80    -335.40 -1506.53   11418.87   \n",
       "18       July  2018           102      9274.95    -237.87  -689.98    8347.10   \n",
       "19     August  2018            82      7698.70    -140.57  -197.35    7360.78   \n",
       "20  September  2018            79     10582.85    -276.15     0.00   10306.70   \n",
       "21    October  2018            71      7014.50    -277.95  -294.75    6441.80   \n",
       "22   November  2018           140     12002.70    -414.45  -154.40   11433.85   \n",
       "23   December  2018           164     13683.50    -371.20  -928.35   12383.95   \n",
       "24    January  2019            87      7811.75    -261.97 -1250.35    6299.43   \n",
       "25   February  2019            63      6523.70    -288.70   -38.70    6196.30   \n",
       "26      March  2019            99     13075.50    -439.85  -981.00   11654.65   \n",
       "27      April  2019            92      6977.00    -285.40   -10.00    6681.60   \n",
       "28        May  2019            96     10082.25    -460.90  -173.35    9448.00   \n",
       "29       June  2019            85      7321.75    -186.02  -165.40    6970.33   \n",
       "30       July  2019            94      9739.20    -447.07  -908.75    8383.38   \n",
       "31     August  2019           105      8839.50    -201.67   -84.37    8553.46   \n",
       "32  September  2019            88      9077.45    -354.89  -853.35    7869.21   \n",
       "33    October  2019            97      9132.25    -279.42 -1572.55    7280.28   \n",
       "34   November  2019           272     23997.90    -776.84  -364.51   22856.55   \n",
       "35   December  2019           342     31183.90   -2269.51 -1311.18   27603.21   \n",
       "\n",
       "    Shipping  Total Sales  \n",
       "0    1088.30      9371.95  \n",
       "1     892.45      7280.05  \n",
       "2     707.43      5296.53  \n",
       "3    1068.30      9600.90  \n",
       "4     866.46      7103.91  \n",
       "5    1204.32     10573.87  \n",
       "6     807.36      6766.66  \n",
       "7     843.46      8583.56  \n",
       "8     907.32      7639.62  \n",
       "9     695.42      6022.42  \n",
       "10   1555.10     14124.95  \n",
       "11   1340.85     11132.85  \n",
       "12   1180.18      9859.83  \n",
       "13    908.91      7158.61  \n",
       "14   1226.92      8434.00  \n",
       "15   1387.56     10521.63  \n",
       "16   1234.95      7059.58  \n",
       "17   2124.49     13543.36  \n",
       "18   1627.03      9974.13  \n",
       "19   1404.03      8764.81  \n",
       "20   1634.33     11941.03  \n",
       "21   1262.45      7704.25  \n",
       "22   2237.05     13670.90  \n",
       "23   2552.20     14936.15  \n",
       "24   1313.78      7615.91  \n",
       "25   1121.85      7318.15  \n",
       "26   2115.10     13769.75  \n",
       "27   1342.45      8024.05  \n",
       "28   1768.20     11216.20  \n",
       "29   1356.80      8327.13  \n",
       "30   1631.40     10014.78  \n",
       "31   1724.75     10278.21  \n",
       "32   1567.65      9436.86  \n",
       "33   1631.25      8911.53  \n",
       "34   4824.75     27681.30  \n",
       "35   5703.25     33306.46  "
      ]
     },
     "execution_count": 2,
     "metadata": {},
     "output_type": "execute_result"
    }
   ],
   "source": [
    "dataset = pd.read_csv('business.retailsales2.csv')\n",
    "dataset"
   ]
  },
  {
   "cell_type": "code",
   "execution_count": 3,
   "id": "6ed78317",
   "metadata": {},
   "outputs": [
    {
     "data": {
      "text/plain": [
       "(36, 9)"
      ]
     },
     "execution_count": 3,
     "metadata": {},
     "output_type": "execute_result"
    }
   ],
   "source": [
    "dataset.shape"
   ]
  },
  {
   "cell_type": "code",
   "execution_count": 4,
   "id": "6b2277da",
   "metadata": {},
   "outputs": [
    {
     "data": {
      "text/plain": [
       "<bound method NDFrame.describe of         Month  Year  Total Orders  Gross Sales  Discounts  Returns  Net Sales  \\\n",
       "0     January  2017            73      8861.50    -129.40  -448.45    8283.65   \n",
       "1    February  2017            56      6908.50    -104.70  -416.20    6387.60   \n",
       "2       March  2017            60      5778.50    -172.20 -1017.20    4589.10   \n",
       "3       April  2017            70      8814.00    -281.40     0.00    8532.60   \n",
       "4         May  2017            54      6677.00    -185.75  -253.80    6237.45   \n",
       "5        June  2017            68      9621.50    -234.45   -17.50    9369.55   \n",
       "6        July  2017            66      6480.00     -51.50  -469.20    5959.30   \n",
       "7      August  2017            55      8025.00    -258.90   -26.00    7740.10   \n",
       "8   September  2017            68      7075.00     -61.70  -281.00    6732.30   \n",
       "9     October  2017            59      5720.00     -88.00  -305.00    5327.00   \n",
       "10   November  2017            91     13025.00    -131.30  -323.85   12569.85   \n",
       "11   December  2017           116     10356.05    -149.85  -414.20    9792.00   \n",
       "12    January  2018            83      8923.00    -217.10   -26.25    8679.65   \n",
       "13   February  2018            69      6529.20    -161.35  -118.15    6249.70   \n",
       "14      March  2018            64      7442.70    -226.82    -8.80    7207.08   \n",
       "15      April  2018            81      9406.35    -232.28   -40.00    9134.07   \n",
       "16        May  2018            82      7493.90    -221.25 -1448.02    5824.63   \n",
       "17       June  2018           124     13260.80    -335.40 -1506.53   11418.87   \n",
       "18       July  2018           102      9274.95    -237.87  -689.98    8347.10   \n",
       "19     August  2018            82      7698.70    -140.57  -197.35    7360.78   \n",
       "20  September  2018            79     10582.85    -276.15     0.00   10306.70   \n",
       "21    October  2018            71      7014.50    -277.95  -294.75    6441.80   \n",
       "22   November  2018           140     12002.70    -414.45  -154.40   11433.85   \n",
       "23   December  2018           164     13683.50    -371.20  -928.35   12383.95   \n",
       "24    January  2019            87      7811.75    -261.97 -1250.35    6299.43   \n",
       "25   February  2019            63      6523.70    -288.70   -38.70    6196.30   \n",
       "26      March  2019            99     13075.50    -439.85  -981.00   11654.65   \n",
       "27      April  2019            92      6977.00    -285.40   -10.00    6681.60   \n",
       "28        May  2019            96     10082.25    -460.90  -173.35    9448.00   \n",
       "29       June  2019            85      7321.75    -186.02  -165.40    6970.33   \n",
       "30       July  2019            94      9739.20    -447.07  -908.75    8383.38   \n",
       "31     August  2019           105      8839.50    -201.67   -84.37    8553.46   \n",
       "32  September  2019            88      9077.45    -354.89  -853.35    7869.21   \n",
       "33    October  2019            97      9132.25    -279.42 -1572.55    7280.28   \n",
       "34   November  2019           272     23997.90    -776.84  -364.51   22856.55   \n",
       "35   December  2019           342     31183.90   -2269.51 -1311.18   27603.21   \n",
       "\n",
       "    Shipping  Total Sales  \n",
       "0    1088.30      9371.95  \n",
       "1     892.45      7280.05  \n",
       "2     707.43      5296.53  \n",
       "3    1068.30      9600.90  \n",
       "4     866.46      7103.91  \n",
       "5    1204.32     10573.87  \n",
       "6     807.36      6766.66  \n",
       "7     843.46      8583.56  \n",
       "8     907.32      7639.62  \n",
       "9     695.42      6022.42  \n",
       "10   1555.10     14124.95  \n",
       "11   1340.85     11132.85  \n",
       "12   1180.18      9859.83  \n",
       "13    908.91      7158.61  \n",
       "14   1226.92      8434.00  \n",
       "15   1387.56     10521.63  \n",
       "16   1234.95      7059.58  \n",
       "17   2124.49     13543.36  \n",
       "18   1627.03      9974.13  \n",
       "19   1404.03      8764.81  \n",
       "20   1634.33     11941.03  \n",
       "21   1262.45      7704.25  \n",
       "22   2237.05     13670.90  \n",
       "23   2552.20     14936.15  \n",
       "24   1313.78      7615.91  \n",
       "25   1121.85      7318.15  \n",
       "26   2115.10     13769.75  \n",
       "27   1342.45      8024.05  \n",
       "28   1768.20     11216.20  \n",
       "29   1356.80      8327.13  \n",
       "30   1631.40     10014.78  \n",
       "31   1724.75     10278.21  \n",
       "32   1567.65      9436.86  \n",
       "33   1631.25      8911.53  \n",
       "34   4824.75     27681.30  \n",
       "35   5703.25     33306.46  >"
      ]
     },
     "execution_count": 4,
     "metadata": {},
     "output_type": "execute_result"
    }
   ],
   "source": [
    "dataset.describe"
   ]
  },
  {
   "cell_type": "code",
   "execution_count": 5,
   "id": "cc361ae3",
   "metadata": {},
   "outputs": [
    {
     "name": "stdout",
     "output_type": "stream",
     "text": [
      "    Total Orders  Gross Sales  Discounts  Returns  Net Sales  Shipping\n",
      "0             73      8861.50    -129.40  -448.45    8283.65   1088.30\n",
      "1             56      6908.50    -104.70  -416.20    6387.60    892.45\n",
      "2             60      5778.50    -172.20 -1017.20    4589.10    707.43\n",
      "3             70      8814.00    -281.40     0.00    8532.60   1068.30\n",
      "4             54      6677.00    -185.75  -253.80    6237.45    866.46\n",
      "5             68      9621.50    -234.45   -17.50    9369.55   1204.32\n",
      "6             66      6480.00     -51.50  -469.20    5959.30    807.36\n",
      "7             55      8025.00    -258.90   -26.00    7740.10    843.46\n",
      "8             68      7075.00     -61.70  -281.00    6732.30    907.32\n",
      "9             59      5720.00     -88.00  -305.00    5327.00    695.42\n",
      "10            91     13025.00    -131.30  -323.85   12569.85   1555.10\n",
      "11           116     10356.05    -149.85  -414.20    9792.00   1340.85\n",
      "12            83      8923.00    -217.10   -26.25    8679.65   1180.18\n",
      "13            69      6529.20    -161.35  -118.15    6249.70    908.91\n",
      "14            64      7442.70    -226.82    -8.80    7207.08   1226.92\n",
      "15            81      9406.35    -232.28   -40.00    9134.07   1387.56\n",
      "16            82      7493.90    -221.25 -1448.02    5824.63   1234.95\n",
      "17           124     13260.80    -335.40 -1506.53   11418.87   2124.49\n",
      "18           102      9274.95    -237.87  -689.98    8347.10   1627.03\n",
      "19            82      7698.70    -140.57  -197.35    7360.78   1404.03\n",
      "20            79     10582.85    -276.15     0.00   10306.70   1634.33\n",
      "21            71      7014.50    -277.95  -294.75    6441.80   1262.45\n",
      "22           140     12002.70    -414.45  -154.40   11433.85   2237.05\n",
      "23           164     13683.50    -371.20  -928.35   12383.95   2552.20\n",
      "24            87      7811.75    -261.97 -1250.35    6299.43   1313.78\n",
      "25            63      6523.70    -288.70   -38.70    6196.30   1121.85\n",
      "26            99     13075.50    -439.85  -981.00   11654.65   2115.10\n",
      "27            92      6977.00    -285.40   -10.00    6681.60   1342.45\n",
      "28            96     10082.25    -460.90  -173.35    9448.00   1768.20\n",
      "29            85      7321.75    -186.02  -165.40    6970.33   1356.80\n",
      "30            94      9739.20    -447.07  -908.75    8383.38   1631.40\n",
      "31           105      8839.50    -201.67   -84.37    8553.46   1724.75\n",
      "32            88      9077.45    -354.89  -853.35    7869.21   1567.65\n",
      "33            97      9132.25    -279.42 -1572.55    7280.28   1631.25\n",
      "34           272     23997.90    -776.84  -364.51   22856.55   4824.75\n",
      "35           342     31183.90   -2269.51 -1311.18   27603.21   5703.25\n"
     ]
    }
   ],
   "source": [
    "x = dataset.iloc[:,2:8]\n",
    "y = dataset[\"Total Sales\"]\n",
    "print(x)"
   ]
  },
  {
   "cell_type": "code",
   "execution_count": 6,
   "id": "6a4fd660",
   "metadata": {},
   "outputs": [
    {
     "name": "stdout",
     "output_type": "stream",
     "text": [
      "0      9371.95\n",
      "1      7280.05\n",
      "2      5296.53\n",
      "3      9600.90\n",
      "4      7103.91\n",
      "5     10573.87\n",
      "6      6766.66\n",
      "7      8583.56\n",
      "8      7639.62\n",
      "9      6022.42\n",
      "10    14124.95\n",
      "11    11132.85\n",
      "12     9859.83\n",
      "13     7158.61\n",
      "14     8434.00\n",
      "15    10521.63\n",
      "16     7059.58\n",
      "17    13543.36\n",
      "18     9974.13\n",
      "19     8764.81\n",
      "20    11941.03\n",
      "21     7704.25\n",
      "22    13670.90\n",
      "23    14936.15\n",
      "24     7615.91\n",
      "25     7318.15\n",
      "26    13769.75\n",
      "27     8024.05\n",
      "28    11216.20\n",
      "29     8327.13\n",
      "30    10014.78\n",
      "31    10278.21\n",
      "32     9436.86\n",
      "33     8911.53\n",
      "34    27681.30\n",
      "35    33306.46\n",
      "Name: Total Sales, dtype: float64\n"
     ]
    }
   ],
   "source": [
    "print(y)"
   ]
  },
  {
   "cell_type": "code",
   "execution_count": 7,
   "id": "ffcc4fad",
   "metadata": {},
   "outputs": [
    {
     "name": "stdout",
     "output_type": "stream",
     "text": [
      "(27, 6)\n"
     ]
    }
   ],
   "source": [
    "x_train , x_test , y_train , y_test = train_test_split(x , y , test_size = 0.25 , random_state = 1)\n",
    "print(x_train.shape)"
   ]
  },
  {
   "cell_type": "code",
   "execution_count": 8,
   "id": "3de2a6e2",
   "metadata": {},
   "outputs": [
    {
     "name": "stdout",
     "output_type": "stream",
     "text": [
      "(27,)\n"
     ]
    }
   ],
   "source": [
    "print(y_train.shape)"
   ]
  },
  {
   "cell_type": "code",
   "execution_count": 9,
   "id": "23b605e8",
   "metadata": {},
   "outputs": [
    {
     "name": "stdout",
     "output_type": "stream",
     "text": [
      "(9, 6)\n"
     ]
    }
   ],
   "source": [
    "print(x_test.shape)"
   ]
  },
  {
   "cell_type": "code",
   "execution_count": 10,
   "id": "1d9fc4a5",
   "metadata": {},
   "outputs": [],
   "source": [
    "classifier = ElasticNet().fit(x_train,y_train)"
   ]
  },
  {
   "cell_type": "code",
   "execution_count": 11,
   "id": "dfa781e3",
   "metadata": {},
   "outputs": [
    {
     "data": {
      "text/plain": [
       "0.2568008998332516"
      ]
     },
     "execution_count": 11,
     "metadata": {},
     "output_type": "execute_result"
    }
   ],
   "source": [
    "classifier.intercept_"
   ]
  },
  {
   "cell_type": "code",
   "execution_count": 12,
   "id": "760fb1ef",
   "metadata": {},
   "outputs": [
    {
     "data": {
      "text/plain": [
       "array([-0.        ,  0.88063931,  0.88038436,  0.88031234,  0.11931004,\n",
       "        1.00003606])"
      ]
     },
     "execution_count": 12,
     "metadata": {},
     "output_type": "execute_result"
    }
   ],
   "source": [
    "#model coefficients \n",
    "\n",
    "classifier.coef_"
   ]
  },
  {
   "cell_type": "code",
   "execution_count": 13,
   "id": "2b9d3b54",
   "metadata": {},
   "outputs": [
    {
     "data": {
      "text/plain": [
       "(6,)"
      ]
     },
     "execution_count": 13,
     "metadata": {},
     "output_type": "execute_result"
    }
   ],
   "source": [
    "classifier.coef_.shape"
   ]
  },
  {
   "cell_type": "code",
   "execution_count": 14,
   "id": "45ec5bc3",
   "metadata": {},
   "outputs": [
    {
     "data": {
      "text/plain": [
       "('the r-squred for training data', 99.99999913451614)"
      ]
     },
     "execution_count": 14,
     "metadata": {},
     "output_type": "execute_result"
    }
   ],
   "source": [
    "#printing the r - squared\n",
    "#printint the r- squared for training data\n",
    "('the r-squred for training data', classifier.score(x_train, y_train)*100)"
   ]
  },
  {
   "cell_type": "code",
   "execution_count": 15,
   "id": "2b783941",
   "metadata": {},
   "outputs": [
    {
     "data": {
      "text/plain": [
       "('the r-squred for test data', 99.99999986572172)"
      ]
     },
     "execution_count": 15,
     "metadata": {},
     "output_type": "execute_result"
    }
   ],
   "source": [
    "('the r-squred for test data', classifier.score(x_test, y_test)*100)"
   ]
  },
  {
   "cell_type": "code",
   "execution_count": 16,
   "id": "b3081300",
   "metadata": {},
   "outputs": [],
   "source": [
    "from sklearn.preprocessing import StandardScaler\n"
   ]
  },
  {
   "cell_type": "code",
   "execution_count": 17,
   "id": "32d97550",
   "metadata": {},
   "outputs": [],
   "source": [
    "#plotting the prediction error\n",
    "from yellowbrick.regressor import PredictionError\n"
   ]
  },
  {
   "cell_type": "code",
   "execution_count": 18,
   "id": "b927e486",
   "metadata": {},
   "outputs": [
    {
     "name": "stderr",
     "output_type": "stream",
     "text": [
      "C:\\Users\\vijaykumarj\\AppData\\Local\\Programs\\Python\\Python310\\lib\\site-packages\\sklearn\\base.py:450: UserWarning: X does not have valid feature names, but ElasticNet was fitted with feature names\n",
      "  warnings.warn(\n"
     ]
    },
    {
     "data": {
      "image/png": "[encoded data removed]",
      "text/plain": [
       "<Figure size 432x288 with 1 Axes>"
      ]
     },
     "metadata": {
      "needs_background": "light"
     },
     "output_type": "display_data"
    },
    {
     "data": {
      "text/plain": [
       "<AxesSubplot:title={'center':'Prediction Error for ElasticNet'}, xlabel='$y$', ylabel='$\\\\hat{y}$'>"
      ]
     },
     "execution_count": 18,
     "metadata": {},
     "output_type": "execute_result"
    }
   ],
   "source": [
    "visualizer = PredictionError(classifier)\n",
    "visualizer.fit(x_train,y_train)\n",
    "visualizer.score(x_test,y_test)\n",
    "visualizer.poof()\n",
    "                        "
   ]
  },
  {
   "cell_type": "code",
   "execution_count": 19,
   "id": "e2e01eff",
   "metadata": {},
   "outputs": [
    {
     "name": "stderr",
     "output_type": "stream",
     "text": [
      "C:\\Users\\vijaykumarj\\AppData\\Local\\Programs\\Python\\Python310\\lib\\site-packages\\sklearn\\base.py:450: UserWarning: X does not have valid feature names, but ElasticNet was fitted with feature names\n",
      "  warnings.warn(\n"
     ]
    },
    {
     "data": {
      "image/png": "[encoded data removed]",
      "text/plain": [
       "<Figure size 432x288 with 2 Axes>"
      ]
     },
     "metadata": {
      "needs_background": "light"
     },
     "output_type": "display_data"
    },
    {
     "data": {
      "text/plain": [
       "<AxesSubplot:title={'center':'Residuals for ElasticNet Model'}, xlabel='Predicted Value', ylabel='Residuals'>"
      ]
     },
     "execution_count": 19,
     "metadata": {},
     "output_type": "execute_result"
    }
   ],
   "source": [
    "from yellowbrick.regressor import ResidualsPlot\n",
    "visualizer = ResidualsPlot(classifier)\n",
    "visualizer.fit(x_train,y_train)\n",
    "visualizer.score(x_test,y_test)\n",
    "visualizer.poof()"
   ]
  },
  {
   "cell_type": "code",
   "execution_count": 20,
   "id": "b9b8386e",
   "metadata": {},
   "outputs": [],
   "source": [
    "#elastic net regression with several values of lambda\n",
    "#setting the parameters\n",
    "#Alphas\n",
    "alphas = 10**np.linspace(10,100,10)*0.5\n",
    "# Lambdas\n",
    "i_min = 0.01\n",
    "i_max = 0.2\n",
    "i_num = 10\n",
    "\n",
    "lambdas = np.linspace(i_min , i_max , i_num)\n",
    "#prediction\n",
    "\n",
    "pred_num = x.shape[1]\n",
    "\n",
    "#coefficients\n",
    "\n",
    "coef_a = np.zeros((i_num , pred_num))\n",
    "\n",
    "#r squared\n",
    "rsq_train = np.zeros(i_num)\n",
    "rsq_test =  np.zeros(i_num)\n",
    "\n",
    "#enumerating through lambdas with ind and i\n",
    "\n",
    "for ind , i in enumerate(lambdas):\n",
    "    classifier = ElasticNet(alpha = i).fit(x_train, y_train)\n",
    "    coef_a[ind , :] = classifier.coef_\n",
    "    rsq_train[ind] = classifier.score(x_train,y_train)\n",
    "    rsq_test[ind] = classifier.score(x_test,y_test)\n"
   ]
  },
  {
   "cell_type": "code",
   "execution_count": 21,
   "id": "39aba48b",
   "metadata": {},
   "outputs": [],
   "source": [
    "#plotting the r square as a function of lambda values\n",
    "import matplotlib.pyplot as plt\n",
    "%matplotlib inline"
   ]
  },
  {
   "cell_type": "code",
   "execution_count": 22,
   "id": "220bb844",
   "metadata": {},
   "outputs": [
    {
     "name": "stderr",
     "output_type": "stream",
     "text": [
      "C:\\Users\\vijaykumarj\\AppData\\Local\\Temp\\ipykernel_8936\\4279970892.py:4: UserWarning: color is redundantly defined by the 'color' keyword argument and the fmt string \"bo-\" (-> color='b'). The keyword argument will take precedence.\n",
      "  plt.plot(rsq_train ,\"bo-\", label = r'$R^2$ Training dataset', color = 'blue', alpha = 0.6 , linewidth = 4 )\n",
      "C:\\Users\\vijaykumarj\\AppData\\Local\\Temp\\ipykernel_8936\\4279970892.py:5: UserWarning: color is redundantly defined by the 'color' keyword argument and the fmt string \"bo-\" (-> color='b'). The keyword argument will take precedence.\n",
      "  plt.plot(rsq_test ,\"bo-\", label = r'$R^2$ Training dataset', color = 'green', alpha = 0.6 , linewidth = 4 )\n"
     ]
    },
    {
     "data": {
      "text/plain": [
       "Text(0.5, 0, 'lambda')"
      ]
     },
     "execution_count": 22,
     "metadata": {},
     "output_type": "execute_result"
    },
    {
     "data": {
      "image/png": "[encoded data removed]",
      "text/plain": [
       "<Figure size 1440x576 with 1 Axes>"
      ]
     },
     "metadata": {
      "needs_background": "light"
     },
     "output_type": "display_data"
    }
   ],
   "source": [
    "#plotting the r2\n",
    "\n",
    "plt.figure(figsize = (20,8))\n",
    "plt.plot(rsq_train ,\"bo-\", label = r'$R^2$ Training dataset', color = 'blue', alpha = 0.6 , linewidth = 4 )\n",
    "plt.plot(rsq_test ,\"bo-\", label = r'$R^2$ Training dataset', color = 'green', alpha = 0.6 , linewidth = 4 )\n",
    "plt.ylabel(r'$R^2$')\n",
    "plt.xlabel(\"lambda\")"
   ]
  },
  {
   "cell_type": "code",
   "execution_count": 23,
   "id": "8355bb0f",
   "metadata": {},
   "outputs": [
    {
     "data": {
      "text/plain": [
       "array([10015.06783641, 27681.1104293 , 11216.219237  ,  9600.7977761 ,\n",
       "        8764.88771407, 13543.73499602,  7704.39295684, 14936.35960421,\n",
       "        8327.21422345])"
      ]
     },
     "execution_count": 23,
     "metadata": {},
     "output_type": "execute_result"
    }
   ],
   "source": [
    "#making prediction on testing data\n",
    "\n",
    "y_pred = classifier.predict(x_test)\n",
    "y_pred"
   ]
  },
  {
   "cell_type": "code",
   "execution_count": 24,
   "id": "de404b0b",
   "metadata": {},
   "outputs": [],
   "source": [
    "#the r squared of the prediction\n"
   ]
  },
  {
   "cell_type": "code",
   "execution_count": 25,
   "id": "34954063",
   "metadata": {},
   "outputs": [
    {
     "data": {
      "text/plain": [
       "99.99999988711164"
      ]
     },
     "execution_count": 25,
     "metadata": {},
     "output_type": "execute_result"
    }
   ],
   "source": [
    "rsq_test = r2_score(y_test,y_pred)*100\n",
    "rsq_test"
   ]
  },
  {
   "cell_type": "code",
   "execution_count": 26,
   "id": "70300957",
   "metadata": {},
   "outputs": [],
   "source": [
    "from sklearn.metrics import mean_squared_error\n",
    "\n"
   ]
  },
  {
   "cell_type": "code",
   "execution_count": 27,
   "id": "b2161748",
   "metadata": {},
   "outputs": [
    {
     "data": {
      "text/plain": [
       "0.1965627702913235"
      ]
     },
     "execution_count": 27,
     "metadata": {},
     "output_type": "execute_result"
    }
   ],
   "source": [
    "#rmse on the testing data\n",
    "\n",
    "rmse_test = np.sqrt(mean_squared_error(y_test,y_pred))\n",
    "rmse_test\n"
   ]
  },
  {
   "cell_type": "code",
   "execution_count": 28,
   "id": "f3794319",
   "metadata": {},
   "outputs": [],
   "source": [
    "#the rmse on the training dataset\n",
    "#predicting on the training data\n",
    "y_predict_train = classifier.predict(x_train)\n"
   ]
  },
  {
   "cell_type": "code",
   "execution_count": 29,
   "id": "d6b80e97",
   "metadata": {},
   "outputs": [
    {
     "data": {
      "text/plain": [
       "0.4743267887672644"
      ]
     },
     "execution_count": 29,
     "metadata": {},
     "output_type": "execute_result"
    }
   ],
   "source": [
    "rmse_train = np.sqrt(mean_squared_error(y_train,y_predict_train))\n",
    "rmse_train\n"
   ]
  },
  {
   "cell_type": "code",
   "execution_count": 30,
   "id": "663e4e37",
   "metadata": {},
   "outputs": [],
   "source": [
    "#model tuning using elaticnetcv\n",
    "from sklearn.linear_model import ElasticNetCV\n",
    "\n"
   ]
  },
  {
   "cell_type": "code",
   "execution_count": 31,
   "id": "46ffe57c",
   "metadata": {},
   "outputs": [],
   "source": [
    "#10 folds CV\n",
    "\n",
    "Classifier_cv = ElasticNetCV(alphas = np.random.randint(0 ,100 ,10), cv = 10).fit(x_train,y_train)"
   ]
  },
  {
   "cell_type": "code",
   "execution_count": 32,
   "id": "e6af64e2",
   "metadata": {},
   "outputs": [
    {
     "data": {
      "text/plain": [
       "array([32, 46, 83, 19, 68, 60,  2, 66, 94, 80])"
      ]
     },
     "execution_count": 32,
     "metadata": {},
     "output_type": "execute_result"
    }
   ],
   "source": [
    "#printing the scores\n",
    "\n",
    "Classifier_cv.alphas"
   ]
  },
  {
   "cell_type": "code",
   "execution_count": 33,
   "id": "471ad88c",
   "metadata": {},
   "outputs": [
    {
     "data": {
      "text/html": [
       "<style>#sk-container-id-1 {color: black;background-color: white;}#sk-container-id-1 pre{padding: 0;}#sk-container-id-1 div.sk-toggleable {background-color: white;}#sk-container-id-1 label.sk-toggleable__label {cursor: pointer;display: block;width: 100%;margin-bottom: 0;padding: 0.3em;box-sizing: border-box;text-align: center;}#sk-container-id-1 label.sk-toggleable__label-arrow:before {content: \"▸\";float: left;margin-right: 0.25em;color: #696969;}#sk-container-id-1 label.sk-toggleable__label-arrow:hover:before {color: black;}#sk-container-id-1 div.sk-estimator:hover label.sk-toggleable__label-arrow:before {color: black;}#sk-container-id-1 div.sk-toggleable__content {max-height: 0;max-width: 0;overflow: hidden;text-align: left;background-color: #f0f8ff;}#sk-container-id-1 div.sk-toggleable__content pre {margin: 0.2em;color: black;border-radius: 0.25em;background-color: #f0f8ff;}#sk-container-id-1 input.sk-toggleable__control:checked~div.sk-toggleable__content {max-height: 200px;max-width: 100%;overflow: auto;}#sk-container-id-1 input.sk-toggleable__control:checked~label.sk-toggleable__label-arrow:before {content: \"▾\";}#sk-container-id-1 div.sk-estimator input.sk-toggleable__control:checked~label.sk-toggleable__label {background-color: #d4ebff;}#sk-container-id-1 div.sk-label input.sk-toggleable__control:checked~label.sk-toggleable__label {background-color: #d4ebff;}#sk-container-id-1 input.sk-hidden--visually {border: 0;clip: rect(1px 1px 1px 1px);clip: rect(1px, 1px, 1px, 1px);height: 1px;margin: -1px;overflow: hidden;padding: 0;position: absolute;width: 1px;}#sk-container-id-1 div.sk-estimator {font-family: monospace;background-color: #f0f8ff;border: 1px dotted black;border-radius: 0.25em;box-sizing: border-box;margin-bottom: 0.5em;}#sk-container-id-1 div.sk-estimator:hover {background-color: #d4ebff;}#sk-container-id-1 div.sk-parallel-item::after {content: \"\";width: 100%;border-bottom: 1px solid gray;flex-grow: 1;}#sk-container-id-1 div.sk-label:hover label.sk-toggleable__label {background-color: #d4ebff;}#sk-container-id-1 div.sk-serial::before {content: \"\";position: absolute;border-left: 1px solid gray;box-sizing: border-box;top: 0;bottom: 0;left: 50%;z-index: 0;}#sk-container-id-1 div.sk-serial {display: flex;flex-direction: column;align-items: center;background-color: white;padding-right: 0.2em;padding-left: 0.2em;position: relative;}#sk-container-id-1 div.sk-item {position: relative;z-index: 1;}#sk-container-id-1 div.sk-parallel {display: flex;align-items: stretch;justify-content: center;background-color: white;position: relative;}#sk-container-id-1 div.sk-item::before, #sk-container-id-1 div.sk-parallel-item::before {content: \"\";position: absolute;border-left: 1px solid gray;box-sizing: border-box;top: 0;bottom: 0;left: 50%;z-index: -1;}#sk-container-id-1 div.sk-parallel-item {display: flex;flex-direction: column;z-index: 1;position: relative;background-color: white;}#sk-container-id-1 div.sk-parallel-item:first-child::after {align-self: flex-end;width: 50%;}#sk-container-id-1 div.sk-parallel-item:last-child::after {align-self: flex-start;width: 50%;}#sk-container-id-1 div.sk-parallel-item:only-child::after {width: 0;}#sk-container-id-1 div.sk-dashed-wrapped {border: 1px dashed gray;margin: 0 0.4em 0.5em 0.4em;box-sizing: border-box;padding-bottom: 0.4em;background-color: white;}#sk-container-id-1 div.sk-label label {font-family: monospace;font-weight: bold;display: inline-block;line-height: 1.2em;}#sk-container-id-1 div.sk-label-container {text-align: center;}#sk-container-id-1 div.sk-container {/* jupyter's `normalize.less` sets `[hidden] { display: none; }` but bootstrap.min.css set `[hidden] { display: none !important; }` so we also need the `!important` here to be able to override the default hidden behavior on the sphinx rendered scikit-learn.org. See: https://github.com/scikit-learn/scikit-learn/issues/21755 */display: inline-block !important;position: relative;}#sk-container-id-1 div.sk-text-repr-fallback {display: none;}</style><div id=\"sk-container-id-1\" class=\"sk-top-container\"><div class=\"sk-text-repr-fallback\"><pre>ElasticNetCV(alphas=array([32, 46, 83, 19, 68, 60,  2, 66, 94, 80]), cv=10)</pre><b>In a Jupyter environment, please rerun this cell to show the HTML representation or trust the notebook. <br />On GitHub, the HTML representation is unable to render, please try loading this page with nbviewer.org.</b></div><div class=\"sk-container\" hidden><div class=\"sk-item\"><div class=\"sk-estimator sk-toggleable\"><input class=\"sk-toggleable__control sk-hidden--visually\" id=\"sk-estimator-id-1\" type=\"checkbox\" checked><label for=\"sk-estimator-id-1\" class=\"sk-toggleable__label sk-toggleable__label-arrow\">ElasticNetCV</label><div class=\"sk-toggleable__content\"><pre>ElasticNetCV(alphas=array([32, 46, 83, 19, 68, 60,  2, 66, 94, 80]), cv=10)</pre></div></div></div></div></div>"
      ],
      "text/plain": [
       "ElasticNetCV(alphas=array([32, 46, 83, 19, 68, 60,  2, 66, 94, 80]), cv=10)"
      ]
     },
     "execution_count": 33,
     "metadata": {},
     "output_type": "execute_result"
    }
   ],
   "source": [
    "Classifier_cv"
   ]
  },
  {
   "cell_type": "code",
   "execution_count": 34,
   "id": "e179935b",
   "metadata": {},
   "outputs": [
    {
     "data": {
      "text/plain": [
       "2"
      ]
     },
     "execution_count": 34,
     "metadata": {},
     "output_type": "execute_result"
    }
   ],
   "source": [
    "Classifier_cv.alpha_"
   ]
  },
  {
   "cell_type": "code",
   "execution_count": 35,
   "id": "58ce50cd",
   "metadata": {},
   "outputs": [],
   "source": [
    "#creating a new model with optimum alpha\n",
    "Classifier_tuned = ElasticNet().set_params(alpha = Classifier_cv.alpha_).fit(x_train,y_train)\n"
   ]
  },
  {
   "cell_type": "code",
   "execution_count": 36,
   "id": "fd72d22b",
   "metadata": {},
   "outputs": [],
   "source": [
    "y_pred_tune = Classifier_tuned.predict(x_test)"
   ]
  },
  {
   "cell_type": "code",
   "execution_count": 37,
   "id": "74f56e5f",
   "metadata": {},
   "outputs": [],
   "source": [
    "#computing the rmse\n",
    "\n",
    "rmse_tuned = np.sqrt(mean_squared_error(y_test, y_pred_tune))"
   ]
  },
  {
   "cell_type": "code",
   "execution_count": 38,
   "id": "2c48abb9",
   "metadata": {},
   "outputs": [
    {
     "data": {
      "text/plain": [
       "0.29104568117457835"
      ]
     },
     "execution_count": 38,
     "metadata": {},
     "output_type": "execute_result"
    }
   ],
   "source": [
    "rmse_tuned"
   ]
  },
  {
   "cell_type": "code",
   "execution_count": 39,
   "id": "f29a2e28",
   "metadata": {},
   "outputs": [],
   "source": [
    "y_pred_tune_train = Classifier_tuned.predict(x_train)"
   ]
  },
  {
   "cell_type": "code",
   "execution_count": 40,
   "id": "e8de3e83",
   "metadata": {},
   "outputs": [],
   "source": [
    "rmse_tuned_train = np.sqrt(mean_squared_error(y_train, y_pred_tune_train))"
   ]
  },
  {
   "cell_type": "code",
   "execution_count": 41,
   "id": "7607513b",
   "metadata": {},
   "outputs": [
    {
     "data": {
      "text/plain": [
       "0.4786774720465183"
      ]
     },
     "execution_count": 41,
     "metadata": {},
     "output_type": "execute_result"
    }
   ],
   "source": [
    "rmse_tuned_train"
   ]
  },
  {
   "cell_type": "code",
   "execution_count": null,
   "id": "8589ca33",
   "metadata": {},
   "outputs": [],
   "source": []
  },
  {
   "cell_type": "code",
   "execution_count": null,
   "id": "3e776ca1",
   "metadata": {},
   "outputs": [],
   "source": []
  }
 ],
 "metadata": {
  "kernelspec": {
   "display_name": "Python 3 (ipykernel)",
   "language": "python",
   "name": "python3"
  },
  "language_info": {
   "codemirror_mode": {
    "name": "ipython",
    "version": 3
   },
   "file_extension": ".py",
   "mimetype": "text/x-python",
   "name": "python",
   "nbconvert_exporter": "python",
   "pygments_lexer": "ipython3",
   "version": "3.10.4"
  }
 },
 "nbformat": 4,
 "nbformat_minor": 5
}
