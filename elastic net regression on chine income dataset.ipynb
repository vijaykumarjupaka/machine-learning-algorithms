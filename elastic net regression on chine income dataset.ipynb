{
 "cells": [
  {
   "cell_type": "code",
   "execution_count": 2,
   "id": "37d87b82",
   "metadata": {},
   "outputs": [],
   "source": [
    "import numpy as np\n",
    "import pandas as pd\n",
    "from sklearn.linear_model import ElasticNet\n",
    "from sklearn.model_selection import train_test_split\n",
    "from sklearn.metrics import r2_score"
   ]
  },
  {
   "cell_type": "code",
   "execution_count": 3,
   "id": "221eba19",
   "metadata": {},
   "outputs": [
    {
     "data": {
      "text/html": [
       "<div>\n",
       "<style scoped>\n",
       "    .dataframe tbody tr th:only-of-type {\n",
       "        vertical-align: middle;\n",
       "    }\n",
       "\n",
       "    .dataframe tbody tr th {\n",
       "        vertical-align: top;\n",
       "    }\n",
       "\n",
       "    .dataframe thead th {\n",
       "        text-align: right;\n",
       "    }\n",
       "</style>\n",
       "<table border=\"1\" class=\"dataframe\">\n",
       "  <thead>\n",
       "    <tr style=\"text-align: right;\">\n",
       "      <th></th>\n",
       "      <th>Unnamed: 0</th>\n",
       "      <th>agriculture</th>\n",
       "      <th>commerce</th>\n",
       "      <th>construction</th>\n",
       "      <th>industry</th>\n",
       "      <th>transport</th>\n",
       "    </tr>\n",
       "  </thead>\n",
       "  <tbody>\n",
       "    <tr>\n",
       "      <th>0</th>\n",
       "      <td>1</td>\n",
       "      <td>100.0</td>\n",
       "      <td>100.0</td>\n",
       "      <td>100.0</td>\n",
       "      <td>100.0</td>\n",
       "      <td>100.0</td>\n",
       "    </tr>\n",
       "    <tr>\n",
       "      <th>1</th>\n",
       "      <td>2</td>\n",
       "      <td>101.6</td>\n",
       "      <td>133.0</td>\n",
       "      <td>138.1</td>\n",
       "      <td>133.6</td>\n",
       "      <td>120.0</td>\n",
       "    </tr>\n",
       "    <tr>\n",
       "      <th>2</th>\n",
       "      <td>3</td>\n",
       "      <td>103.3</td>\n",
       "      <td>136.4</td>\n",
       "      <td>133.3</td>\n",
       "      <td>159.1</td>\n",
       "      <td>136.0</td>\n",
       "    </tr>\n",
       "    <tr>\n",
       "      <th>3</th>\n",
       "      <td>4</td>\n",
       "      <td>111.5</td>\n",
       "      <td>137.5</td>\n",
       "      <td>152.4</td>\n",
       "      <td>169.1</td>\n",
       "      <td>140.0</td>\n",
       "    </tr>\n",
       "    <tr>\n",
       "      <th>4</th>\n",
       "      <td>5</td>\n",
       "      <td>116.5</td>\n",
       "      <td>146.6</td>\n",
       "      <td>261.9</td>\n",
       "      <td>219.1</td>\n",
       "      <td>164.0</td>\n",
       "    </tr>\n",
       "    <tr>\n",
       "      <th>5</th>\n",
       "      <td>6</td>\n",
       "      <td>120.1</td>\n",
       "      <td>146.6</td>\n",
       "      <td>242.9</td>\n",
       "      <td>244.5</td>\n",
       "      <td>176.0</td>\n",
       "    </tr>\n",
       "    <tr>\n",
       "      <th>6</th>\n",
       "      <td>7</td>\n",
       "      <td>120.3</td>\n",
       "      <td>155.9</td>\n",
       "      <td>367.0</td>\n",
       "      <td>383.5</td>\n",
       "      <td>270.8</td>\n",
       "    </tr>\n",
       "    <tr>\n",
       "      <th>7</th>\n",
       "      <td>8</td>\n",
       "      <td>100.6</td>\n",
       "      <td>170.3</td>\n",
       "      <td>388.6</td>\n",
       "      <td>501.5</td>\n",
       "      <td>356.5</td>\n",
       "    </tr>\n",
       "    <tr>\n",
       "      <th>8</th>\n",
       "      <td>9</td>\n",
       "      <td>83.6</td>\n",
       "      <td>164.1</td>\n",
       "      <td>394.0</td>\n",
       "      <td>541.4</td>\n",
       "      <td>383.6</td>\n",
       "    </tr>\n",
       "    <tr>\n",
       "      <th>9</th>\n",
       "      <td>10</td>\n",
       "      <td>84.7</td>\n",
       "      <td>130.1</td>\n",
       "      <td>129.5</td>\n",
       "      <td>315.9</td>\n",
       "      <td>221.1</td>\n",
       "    </tr>\n",
       "    <tr>\n",
       "      <th>10</th>\n",
       "      <td>11</td>\n",
       "      <td>88.7</td>\n",
       "      <td>117.7</td>\n",
       "      <td>161.9</td>\n",
       "      <td>267.4</td>\n",
       "      <td>171.5</td>\n",
       "    </tr>\n",
       "    <tr>\n",
       "      <th>11</th>\n",
       "      <td>12</td>\n",
       "      <td>98.9</td>\n",
       "      <td>120.8</td>\n",
       "      <td>205.1</td>\n",
       "      <td>300.7</td>\n",
       "      <td>176.0</td>\n",
       "    </tr>\n",
       "    <tr>\n",
       "      <th>12</th>\n",
       "      <td>13</td>\n",
       "      <td>111.9</td>\n",
       "      <td>123.9</td>\n",
       "      <td>259.0</td>\n",
       "      <td>374.9</td>\n",
       "      <td>198.6</td>\n",
       "    </tr>\n",
       "    <tr>\n",
       "      <th>13</th>\n",
       "      <td>14</td>\n",
       "      <td>122.9</td>\n",
       "      <td>128.0</td>\n",
       "      <td>286.0</td>\n",
       "      <td>477.7</td>\n",
       "      <td>261.7</td>\n",
       "    </tr>\n",
       "    <tr>\n",
       "      <th>14</th>\n",
       "      <td>15</td>\n",
       "      <td>131.9</td>\n",
       "      <td>155.9</td>\n",
       "      <td>313.0</td>\n",
       "      <td>598.5</td>\n",
       "      <td>297.8</td>\n",
       "    </tr>\n",
       "    <tr>\n",
       "      <th>15</th>\n",
       "      <td>16</td>\n",
       "      <td>134.2</td>\n",
       "      <td>164.1</td>\n",
       "      <td>296.8</td>\n",
       "      <td>504.3</td>\n",
       "      <td>239.2</td>\n",
       "    </tr>\n",
       "    <tr>\n",
       "      <th>16</th>\n",
       "      <td>17</td>\n",
       "      <td>131.6</td>\n",
       "      <td>151.8</td>\n",
       "      <td>237.5</td>\n",
       "      <td>458.6</td>\n",
       "      <td>225.6</td>\n",
       "    </tr>\n",
       "    <tr>\n",
       "      <th>17</th>\n",
       "      <td>18</td>\n",
       "      <td>132.2</td>\n",
       "      <td>179.6</td>\n",
       "      <td>323.8</td>\n",
       "      <td>622.3</td>\n",
       "      <td>284.3</td>\n",
       "    </tr>\n",
       "    <tr>\n",
       "      <th>18</th>\n",
       "      <td>19</td>\n",
       "      <td>139.8</td>\n",
       "      <td>199.2</td>\n",
       "      <td>421.0</td>\n",
       "      <td>863.0</td>\n",
       "      <td>343.0</td>\n",
       "    </tr>\n",
       "    <tr>\n",
       "      <th>19</th>\n",
       "      <td>20</td>\n",
       "      <td>142.0</td>\n",
       "      <td>201.2</td>\n",
       "      <td>468.3</td>\n",
       "      <td>979.0</td>\n",
       "      <td>370.8</td>\n",
       "    </tr>\n",
       "    <tr>\n",
       "      <th>20</th>\n",
       "      <td>21</td>\n",
       "      <td>140.5</td>\n",
       "      <td>208.0</td>\n",
       "      <td>452.5</td>\n",
       "      <td>1043.5</td>\n",
       "      <td>389.3</td>\n",
       "    </tr>\n",
       "    <tr>\n",
       "      <th>21</th>\n",
       "      <td>22</td>\n",
       "      <td>153.1</td>\n",
       "      <td>224.5</td>\n",
       "      <td>457.8</td>\n",
       "      <td>1134.3</td>\n",
       "      <td>412.5</td>\n",
       "    </tr>\n",
       "    <tr>\n",
       "      <th>22</th>\n",
       "      <td>23</td>\n",
       "      <td>159.2</td>\n",
       "      <td>220.6</td>\n",
       "      <td>484.1</td>\n",
       "      <td>1128.9</td>\n",
       "      <td>394.0</td>\n",
       "    </tr>\n",
       "    <tr>\n",
       "      <th>23</th>\n",
       "      <td>24</td>\n",
       "      <td>162.3</td>\n",
       "      <td>220.6</td>\n",
       "      <td>542.0</td>\n",
       "      <td>1297.3</td>\n",
       "      <td>444.9</td>\n",
       "    </tr>\n",
       "    <tr>\n",
       "      <th>24</th>\n",
       "      <td>25</td>\n",
       "      <td>159.1</td>\n",
       "      <td>214.8</td>\n",
       "      <td>568.3</td>\n",
       "      <td>1249.2</td>\n",
       "      <td>426.4</td>\n",
       "    </tr>\n",
       "    <tr>\n",
       "      <th>25</th>\n",
       "      <td>26</td>\n",
       "      <td>155.1</td>\n",
       "      <td>242.0</td>\n",
       "      <td>578.8</td>\n",
       "      <td>1434.0</td>\n",
       "      <td>491.3</td>\n",
       "    </tr>\n",
       "    <tr>\n",
       "      <th>26</th>\n",
       "      <td>27</td>\n",
       "      <td>161.2</td>\n",
       "      <td>296.4</td>\n",
       "      <td>573.5</td>\n",
       "      <td>1679.1</td>\n",
       "      <td>546.9</td>\n",
       "    </tr>\n",
       "    <tr>\n",
       "      <th>27</th>\n",
       "      <td>28</td>\n",
       "      <td>171.5</td>\n",
       "      <td>316.8</td>\n",
       "      <td>584.1</td>\n",
       "      <td>1814.7</td>\n",
       "      <td>560.8</td>\n",
       "    </tr>\n",
       "    <tr>\n",
       "      <th>28</th>\n",
       "      <td>29</td>\n",
       "      <td>168.4</td>\n",
       "      <td>318.8</td>\n",
       "      <td>757.7</td>\n",
       "      <td>2012.7</td>\n",
       "      <td>584.0</td>\n",
       "    </tr>\n",
       "    <tr>\n",
       "      <th>29</th>\n",
       "      <td>30</td>\n",
       "      <td>180.4</td>\n",
       "      <td>379.4</td>\n",
       "      <td>770.0</td>\n",
       "      <td>2046.8</td>\n",
       "      <td>607.2</td>\n",
       "    </tr>\n",
       "    <tr>\n",
       "      <th>30</th>\n",
       "      <td>31</td>\n",
       "      <td>201.6</td>\n",
       "      <td>397.5</td>\n",
       "      <td>806.9</td>\n",
       "      <td>2170.1</td>\n",
       "      <td>681.3</td>\n",
       "    </tr>\n",
       "    <tr>\n",
       "      <th>31</th>\n",
       "      <td>32</td>\n",
       "      <td>218.7</td>\n",
       "      <td>449.1</td>\n",
       "      <td>954.3</td>\n",
       "      <td>2383.7</td>\n",
       "      <td>755.5</td>\n",
       "    </tr>\n",
       "    <tr>\n",
       "      <th>32</th>\n",
       "      <td>33</td>\n",
       "      <td>247.0</td>\n",
       "      <td>499.5</td>\n",
       "      <td>1056.7</td>\n",
       "      <td>2738.8</td>\n",
       "      <td>852.8</td>\n",
       "    </tr>\n",
       "    <tr>\n",
       "      <th>33</th>\n",
       "      <td>34</td>\n",
       "      <td>253.7</td>\n",
       "      <td>593.7</td>\n",
       "      <td>1310.6</td>\n",
       "      <td>3275.2</td>\n",
       "      <td>1024.3</td>\n",
       "    </tr>\n",
       "    <tr>\n",
       "      <th>34</th>\n",
       "      <td>35</td>\n",
       "      <td>261.4</td>\n",
       "      <td>636.3</td>\n",
       "      <td>1540.0</td>\n",
       "      <td>3590.6</td>\n",
       "      <td>1140.2</td>\n",
       "    </tr>\n",
       "    <tr>\n",
       "      <th>35</th>\n",
       "      <td>36</td>\n",
       "      <td>273.2</td>\n",
       "      <td>715.0</td>\n",
       "      <td>1744.8</td>\n",
       "      <td>4058.8</td>\n",
       "      <td>1269.9</td>\n",
       "    </tr>\n",
       "    <tr>\n",
       "      <th>36</th>\n",
       "      <td>37</td>\n",
       "      <td>279.4</td>\n",
       "      <td>760.8</td>\n",
       "      <td>1884.0</td>\n",
       "      <td>4765.0</td>\n",
       "      <td>1413.6</td>\n",
       "    </tr>\n",
       "  </tbody>\n",
       "</table>\n",
       "</div>"
      ],
      "text/plain": [
       "    Unnamed: 0  agriculture  commerce  construction  industry  transport\n",
       "0            1        100.0     100.0         100.0     100.0      100.0\n",
       "1            2        101.6     133.0         138.1     133.6      120.0\n",
       "2            3        103.3     136.4         133.3     159.1      136.0\n",
       "3            4        111.5     137.5         152.4     169.1      140.0\n",
       "4            5        116.5     146.6         261.9     219.1      164.0\n",
       "5            6        120.1     146.6         242.9     244.5      176.0\n",
       "6            7        120.3     155.9         367.0     383.5      270.8\n",
       "7            8        100.6     170.3         388.6     501.5      356.5\n",
       "8            9         83.6     164.1         394.0     541.4      383.6\n",
       "9           10         84.7     130.1         129.5     315.9      221.1\n",
       "10          11         88.7     117.7         161.9     267.4      171.5\n",
       "11          12         98.9     120.8         205.1     300.7      176.0\n",
       "12          13        111.9     123.9         259.0     374.9      198.6\n",
       "13          14        122.9     128.0         286.0     477.7      261.7\n",
       "14          15        131.9     155.9         313.0     598.5      297.8\n",
       "15          16        134.2     164.1         296.8     504.3      239.2\n",
       "16          17        131.6     151.8         237.5     458.6      225.6\n",
       "17          18        132.2     179.6         323.8     622.3      284.3\n",
       "18          19        139.8     199.2         421.0     863.0      343.0\n",
       "19          20        142.0     201.2         468.3     979.0      370.8\n",
       "20          21        140.5     208.0         452.5    1043.5      389.3\n",
       "21          22        153.1     224.5         457.8    1134.3      412.5\n",
       "22          23        159.2     220.6         484.1    1128.9      394.0\n",
       "23          24        162.3     220.6         542.0    1297.3      444.9\n",
       "24          25        159.1     214.8         568.3    1249.2      426.4\n",
       "25          26        155.1     242.0         578.8    1434.0      491.3\n",
       "26          27        161.2     296.4         573.5    1679.1      546.9\n",
       "27          28        171.5     316.8         584.1    1814.7      560.8\n",
       "28          29        168.4     318.8         757.7    2012.7      584.0\n",
       "29          30        180.4     379.4         770.0    2046.8      607.2\n",
       "30          31        201.6     397.5         806.9    2170.1      681.3\n",
       "31          32        218.7     449.1         954.3    2383.7      755.5\n",
       "32          33        247.0     499.5        1056.7    2738.8      852.8\n",
       "33          34        253.7     593.7        1310.6    3275.2     1024.3\n",
       "34          35        261.4     636.3        1540.0    3590.6     1140.2\n",
       "35          36        273.2     715.0        1744.8    4058.8     1269.9\n",
       "36          37        279.4     760.8        1884.0    4765.0     1413.6"
      ]
     },
     "execution_count": 3,
     "metadata": {},
     "output_type": "execute_result"
    }
   ],
   "source": [
    "dataset = pd.read_csv('ChinaIncome.csv')\n",
    "dataset"
   ]
  },
  {
   "cell_type": "code",
   "execution_count": 4,
   "id": "6ed78317",
   "metadata": {},
   "outputs": [
    {
     "data": {
      "text/plain": [
       "(37, 6)"
      ]
     },
     "execution_count": 4,
     "metadata": {},
     "output_type": "execute_result"
    }
   ],
   "source": [
    "dataset.shape"
   ]
  },
  {
   "cell_type": "code",
   "execution_count": 5,
   "id": "6b2277da",
   "metadata": {},
   "outputs": [
    {
     "data": {
      "text/plain": [
       "<bound method NDFrame.describe of     Unnamed: 0  agriculture  commerce  construction  industry  transport\n",
       "0            1        100.0     100.0         100.0     100.0      100.0\n",
       "1            2        101.6     133.0         138.1     133.6      120.0\n",
       "2            3        103.3     136.4         133.3     159.1      136.0\n",
       "3            4        111.5     137.5         152.4     169.1      140.0\n",
       "4            5        116.5     146.6         261.9     219.1      164.0\n",
       "5            6        120.1     146.6         242.9     244.5      176.0\n",
       "6            7        120.3     155.9         367.0     383.5      270.8\n",
       "7            8        100.6     170.3         388.6     501.5      356.5\n",
       "8            9         83.6     164.1         394.0     541.4      383.6\n",
       "9           10         84.7     130.1         129.5     315.9      221.1\n",
       "10          11         88.7     117.7         161.9     267.4      171.5\n",
       "11          12         98.9     120.8         205.1     300.7      176.0\n",
       "12          13        111.9     123.9         259.0     374.9      198.6\n",
       "13          14        122.9     128.0         286.0     477.7      261.7\n",
       "14          15        131.9     155.9         313.0     598.5      297.8\n",
       "15          16        134.2     164.1         296.8     504.3      239.2\n",
       "16          17        131.6     151.8         237.5     458.6      225.6\n",
       "17          18        132.2     179.6         323.8     622.3      284.3\n",
       "18          19        139.8     199.2         421.0     863.0      343.0\n",
       "19          20        142.0     201.2         468.3     979.0      370.8\n",
       "20          21        140.5     208.0         452.5    1043.5      389.3\n",
       "21          22        153.1     224.5         457.8    1134.3      412.5\n",
       "22          23        159.2     220.6         484.1    1128.9      394.0\n",
       "23          24        162.3     220.6         542.0    1297.3      444.9\n",
       "24          25        159.1     214.8         568.3    1249.2      426.4\n",
       "25          26        155.1     242.0         578.8    1434.0      491.3\n",
       "26          27        161.2     296.4         573.5    1679.1      546.9\n",
       "27          28        171.5     316.8         584.1    1814.7      560.8\n",
       "28          29        168.4     318.8         757.7    2012.7      584.0\n",
       "29          30        180.4     379.4         770.0    2046.8      607.2\n",
       "30          31        201.6     397.5         806.9    2170.1      681.3\n",
       "31          32        218.7     449.1         954.3    2383.7      755.5\n",
       "32          33        247.0     499.5        1056.7    2738.8      852.8\n",
       "33          34        253.7     593.7        1310.6    3275.2     1024.3\n",
       "34          35        261.4     636.3        1540.0    3590.6     1140.2\n",
       "35          36        273.2     715.0        1744.8    4058.8     1269.9\n",
       "36          37        279.4     760.8        1884.0    4765.0     1413.6>"
      ]
     },
     "execution_count": 5,
     "metadata": {},
     "output_type": "execute_result"
    }
   ],
   "source": [
    "dataset.describe"
   ]
  },
  {
   "cell_type": "code",
   "execution_count": 6,
   "id": "cc361ae3",
   "metadata": {},
   "outputs": [
    {
     "name": "stdout",
     "output_type": "stream",
     "text": [
      "    Unnamed: 0  agriculture  commerce  construction  industry\n",
      "0            1        100.0     100.0         100.0     100.0\n",
      "1            2        101.6     133.0         138.1     133.6\n",
      "2            3        103.3     136.4         133.3     159.1\n",
      "3            4        111.5     137.5         152.4     169.1\n",
      "4            5        116.5     146.6         261.9     219.1\n",
      "5            6        120.1     146.6         242.9     244.5\n",
      "6            7        120.3     155.9         367.0     383.5\n",
      "7            8        100.6     170.3         388.6     501.5\n",
      "8            9         83.6     164.1         394.0     541.4\n",
      "9           10         84.7     130.1         129.5     315.9\n",
      "10          11         88.7     117.7         161.9     267.4\n",
      "11          12         98.9     120.8         205.1     300.7\n",
      "12          13        111.9     123.9         259.0     374.9\n",
      "13          14        122.9     128.0         286.0     477.7\n",
      "14          15        131.9     155.9         313.0     598.5\n",
      "15          16        134.2     164.1         296.8     504.3\n",
      "16          17        131.6     151.8         237.5     458.6\n",
      "17          18        132.2     179.6         323.8     622.3\n",
      "18          19        139.8     199.2         421.0     863.0\n",
      "19          20        142.0     201.2         468.3     979.0\n",
      "20          21        140.5     208.0         452.5    1043.5\n",
      "21          22        153.1     224.5         457.8    1134.3\n",
      "22          23        159.2     220.6         484.1    1128.9\n",
      "23          24        162.3     220.6         542.0    1297.3\n",
      "24          25        159.1     214.8         568.3    1249.2\n",
      "25          26        155.1     242.0         578.8    1434.0\n",
      "26          27        161.2     296.4         573.5    1679.1\n",
      "27          28        171.5     316.8         584.1    1814.7\n",
      "28          29        168.4     318.8         757.7    2012.7\n",
      "29          30        180.4     379.4         770.0    2046.8\n",
      "30          31        201.6     397.5         806.9    2170.1\n",
      "31          32        218.7     449.1         954.3    2383.7\n",
      "32          33        247.0     499.5        1056.7    2738.8\n",
      "33          34        253.7     593.7        1310.6    3275.2\n",
      "34          35        261.4     636.3        1540.0    3590.6\n",
      "35          36        273.2     715.0        1744.8    4058.8\n",
      "36          37        279.4     760.8        1884.0    4765.0\n"
     ]
    }
   ],
   "source": [
    "x = dataset.drop(\"transport\" , axis = 1)\n",
    "y = dataset[\"transport\"]\n",
    "print(x)"
   ]
  },
  {
   "cell_type": "code",
   "execution_count": 7,
   "id": "6a4fd660",
   "metadata": {},
   "outputs": [
    {
     "name": "stdout",
     "output_type": "stream",
     "text": [
      "0      100.0\n",
      "1      120.0\n",
      "2      136.0\n",
      "3      140.0\n",
      "4      164.0\n",
      "5      176.0\n",
      "6      270.8\n",
      "7      356.5\n",
      "8      383.6\n",
      "9      221.1\n",
      "10     171.5\n",
      "11     176.0\n",
      "12     198.6\n",
      "13     261.7\n",
      "14     297.8\n",
      "15     239.2\n",
      "16     225.6\n",
      "17     284.3\n",
      "18     343.0\n",
      "19     370.8\n",
      "20     389.3\n",
      "21     412.5\n",
      "22     394.0\n",
      "23     444.9\n",
      "24     426.4\n",
      "25     491.3\n",
      "26     546.9\n",
      "27     560.8\n",
      "28     584.0\n",
      "29     607.2\n",
      "30     681.3\n",
      "31     755.5\n",
      "32     852.8\n",
      "33    1024.3\n",
      "34    1140.2\n",
      "35    1269.9\n",
      "36    1413.6\n",
      "Name: transport, dtype: float64\n"
     ]
    }
   ],
   "source": [
    "print(y)"
   ]
  },
  {
   "cell_type": "code",
   "execution_count": 8,
   "id": "ffcc4fad",
   "metadata": {},
   "outputs": [
    {
     "name": "stdout",
     "output_type": "stream",
     "text": [
      "(27, 5)\n"
     ]
    }
   ],
   "source": [
    "x_train , x_test , y_train , y_test = train_test_split(x , y , test_size = 0.25 , random_state = 1)\n",
    "print(x_train.shape)"
   ]
  },
  {
   "cell_type": "code",
   "execution_count": 9,
   "id": "3de2a6e2",
   "metadata": {},
   "outputs": [
    {
     "name": "stdout",
     "output_type": "stream",
     "text": [
      "(27,)\n"
     ]
    }
   ],
   "source": [
    "print(y_train.shape)"
   ]
  },
  {
   "cell_type": "code",
   "execution_count": 10,
   "id": "23b605e8",
   "metadata": {},
   "outputs": [
    {
     "name": "stdout",
     "output_type": "stream",
     "text": [
      "(10, 5)\n"
     ]
    }
   ],
   "source": [
    "print(x_test.shape)"
   ]
  },
  {
   "cell_type": "code",
   "execution_count": 11,
   "id": "1d9fc4a5",
   "metadata": {},
   "outputs": [],
   "source": [
    "classifier = ElasticNet().fit(x_train,y_train)"
   ]
  },
  {
   "cell_type": "code",
   "execution_count": 12,
   "id": "dfa781e3",
   "metadata": {},
   "outputs": [
    {
     "data": {
      "text/plain": [
       "123.15381392974757"
      ]
     },
     "execution_count": 12,
     "metadata": {},
     "output_type": "execute_result"
    }
   ],
   "source": [
    "classifier.intercept_"
   ]
  },
  {
   "cell_type": "code",
   "execution_count": 13,
   "id": "760fb1ef",
   "metadata": {},
   "outputs": [
    {
     "data": {
      "text/plain": [
       "array([ 3.88775573, -1.45142787,  0.6525569 ,  0.45010874,  0.04607352])"
      ]
     },
     "execution_count": 13,
     "metadata": {},
     "output_type": "execute_result"
    }
   ],
   "source": [
    "#model coefficients \n",
    "\n",
    "classifier.coef_"
   ]
  },
  {
   "cell_type": "code",
   "execution_count": 14,
   "id": "2b9d3b54",
   "metadata": {},
   "outputs": [
    {
     "data": {
      "text/plain": [
       "(5,)"
      ]
     },
     "execution_count": 14,
     "metadata": {},
     "output_type": "execute_result"
    }
   ],
   "source": [
    "classifier.coef_.shape"
   ]
  },
  {
   "cell_type": "code",
   "execution_count": 15,
   "id": "45ec5bc3",
   "metadata": {},
   "outputs": [
    {
     "data": {
      "text/plain": [
       "('the r-squred for training data', 99.4797883501086)"
      ]
     },
     "execution_count": 15,
     "metadata": {},
     "output_type": "execute_result"
    }
   ],
   "source": [
    "#printing the r - squared\n",
    "#printint the r- squared for training data\n",
    "('the r-squred for training data', classifier.score(x_train, y_train)*100)"
   ]
  },
  {
   "cell_type": "code",
   "execution_count": 16,
   "id": "2b783941",
   "metadata": {},
   "outputs": [
    {
     "data": {
      "text/plain": [
       "('the r-squred for test data', 99.30365735794568)"
      ]
     },
     "execution_count": 16,
     "metadata": {},
     "output_type": "execute_result"
    }
   ],
   "source": [
    "('the r-squred for test data', classifier.score(x_test, y_test)*100)"
   ]
  },
  {
   "cell_type": "code",
   "execution_count": 17,
   "id": "b3081300",
   "metadata": {},
   "outputs": [],
   "source": [
    "from sklearn.preprocessing import StandardScaler\n"
   ]
  },
  {
   "cell_type": "code",
   "execution_count": 18,
   "id": "32d97550",
   "metadata": {},
   "outputs": [],
   "source": [
    "#plotting the prediction error\n",
    "from yellowbrick.regressor import PredictionError\n"
   ]
  },
  {
   "cell_type": "code",
   "execution_count": 19,
   "id": "b927e486",
   "metadata": {},
   "outputs": [
    {
     "name": "stderr",
     "output_type": "stream",
     "text": [
      "C:\\Users\\vijaykumarj\\AppData\\Local\\Programs\\Python\\Python310\\lib\\site-packages\\sklearn\\base.py:450: UserWarning: X does not have valid feature names, but ElasticNet was fitted with feature names\n",
      "  warnings.warn(\n"
     ]
    },
    {
     "data": {
      "image/png": "[encoded data removed]",
      "text/plain": [
       "<Figure size 432x288 with 1 Axes>"
      ]
     },
     "metadata": {
      "needs_background": "light"
     },
     "output_type": "display_data"
    },
    {
     "data": {
      "text/plain": [
       "<AxesSubplot:title={'center':'Prediction Error for ElasticNet'}, xlabel='$y$', ylabel='$\\\\hat{y}$'>"
      ]
     },
     "execution_count": 19,
     "metadata": {},
     "output_type": "execute_result"
    }
   ],
   "source": [
    "visualizer = PredictionError(classifier)\n",
    "visualizer.fit(x_train,y_train)\n",
    "visualizer.score(x_test,y_test)\n",
    "visualizer.poof()\n",
    "                        "
   ]
  },
  {
   "cell_type": "code",
   "execution_count": 20,
   "id": "e2e01eff",
   "metadata": {},
   "outputs": [
    {
     "name": "stderr",
     "output_type": "stream",
     "text": [
      "C:\\Users\\vijaykumarj\\AppData\\Local\\Programs\\Python\\Python310\\lib\\site-packages\\sklearn\\base.py:450: UserWarning: X does not have valid feature names, but ElasticNet was fitted with feature names\n",
      "  warnings.warn(\n"
     ]
    },
    {
     "data": {
      "image/png": "[encoded data removed]",
      "text/plain": [
       "<Figure size 432x288 with 2 Axes>"
      ]
     },
     "metadata": {
      "needs_background": "light"
     },
     "output_type": "display_data"
    },
    {
     "data": {
      "text/plain": [
       "<AxesSubplot:title={'center':'Residuals for ElasticNet Model'}, xlabel='Predicted Value', ylabel='Residuals'>"
      ]
     },
     "execution_count": 20,
     "metadata": {},
     "output_type": "execute_result"
    }
   ],
   "source": [
    "from yellowbrick.regressor import ResidualsPlot\n",
    "visualizer = ResidualsPlot(classifier)\n",
    "visualizer.fit(x_train,y_train)\n",
    "visualizer.score(x_test,y_test)\n",
    "visualizer.poof()"
   ]
  },
  {
   "cell_type": "code",
   "execution_count": 21,
   "id": "b9b8386e",
   "metadata": {},
   "outputs": [
    {
     "name": "stderr",
     "output_type": "stream",
     "text": [
      "C:\\Users\\vijaykumarj\\AppData\\Local\\Programs\\Python\\Python310\\lib\\site-packages\\sklearn\\linear_model\\_coordinate_descent.py:648: ConvergenceWarning: Objective did not converge. You might want to increase the number of iterations, check the scale of the features or consider increasing regularisation. Duality gap: 5.759e+03, tolerance: 2.965e+02\n",
      "  model = cd_fast.enet_coordinate_descent(\n",
      "C:\\Users\\vijaykumarj\\AppData\\Local\\Programs\\Python\\Python310\\lib\\site-packages\\sklearn\\linear_model\\_coordinate_descent.py:648: ConvergenceWarning: Objective did not converge. You might want to increase the number of iterations, check the scale of the features or consider increasing regularisation. Duality gap: 1.186e+03, tolerance: 2.965e+02\n",
      "  model = cd_fast.enet_coordinate_descent(\n",
      "C:\\Users\\vijaykumarj\\AppData\\Local\\Programs\\Python\\Python310\\lib\\site-packages\\sklearn\\linear_model\\_coordinate_descent.py:648: ConvergenceWarning: Objective did not converge. You might want to increase the number of iterations, check the scale of the features or consider increasing regularisation. Duality gap: 4.314e+02, tolerance: 2.965e+02\n",
      "  model = cd_fast.enet_coordinate_descent(\n"
     ]
    }
   ],
   "source": [
    "#elastic net regression with several values of lambda\n",
    "#setting the parameters\n",
    "#Alphas\n",
    "alphas = 10**np.linspace(10,100,10)*0.5\n",
    "# Lambdas\n",
    "i_min = 0.01\n",
    "i_max = 0.2\n",
    "i_num = 10\n",
    "\n",
    "lambdas = np.linspace(i_min , i_max , i_num)\n",
    "#prediction\n",
    "\n",
    "pred_num = x.shape[1]\n",
    "\n",
    "#coefficients\n",
    "\n",
    "coef_a = np.zeros((i_num , pred_num))\n",
    "\n",
    "#r squared\n",
    "rsq_train = np.zeros(i_num)\n",
    "rsq_test =  np.zeros(i_num)\n",
    "\n",
    "#enumerating through lambdas with ind and i\n",
    "\n",
    "for ind , i in enumerate(lambdas):\n",
    "    classifier = ElasticNet(alpha = i).fit(x_train, y_train)\n",
    "    coef_a[ind , :] = classifier.coef_\n",
    "    rsq_train[ind] = classifier.score(x_train,y_train)\n",
    "    rsq_test[ind] = classifier.score(x_test,y_test)\n"
   ]
  },
  {
   "cell_type": "code",
   "execution_count": 22,
   "id": "39aba48b",
   "metadata": {},
   "outputs": [],
   "source": [
    "#plotting the r square as a function of lambda values\n",
    "import matplotlib.pyplot as plt\n",
    "%matplotlib inline"
   ]
  },
  {
   "cell_type": "code",
   "execution_count": 23,
   "id": "220bb844",
   "metadata": {},
   "outputs": [
    {
     "name": "stderr",
     "output_type": "stream",
     "text": [
      "C:\\Users\\vijaykumarj\\AppData\\Local\\Temp\\ipykernel_13008\\4279970892.py:4: UserWarning: color is redundantly defined by the 'color' keyword argument and the fmt string \"bo-\" (-> color='b'). The keyword argument will take precedence.\n",
      "  plt.plot(rsq_train ,\"bo-\", label = r'$R^2$ Training dataset', color = 'blue', alpha = 0.6 , linewidth = 4 )\n",
      "C:\\Users\\vijaykumarj\\AppData\\Local\\Temp\\ipykernel_13008\\4279970892.py:5: UserWarning: color is redundantly defined by the 'color' keyword argument and the fmt string \"bo-\" (-> color='b'). The keyword argument will take precedence.\n",
      "  plt.plot(rsq_test ,\"bo-\", label = r'$R^2$ Training dataset', color = 'green', alpha = 0.6 , linewidth = 4 )\n"
     ]
    },
    {
     "data": {
      "text/plain": [
       "Text(0.5, 0, 'lambda')"
      ]
     },
     "execution_count": 23,
     "metadata": {},
     "output_type": "execute_result"
    },
    {
     "data": {
      "image/png": "[encoded data removed]",
      "text/plain": [
       "<Figure size 1440x576 with 1 Axes>"
      ]
     },
     "metadata": {
      "needs_background": "light"
     },
     "output_type": "display_data"
    }
   ],
   "source": [
    "#plotting the r2\n",
    "\n",
    "plt.figure(figsize = (20,8))\n",
    "plt.plot(rsq_train ,\"bo-\", label = r'$R^2$ Training dataset', color = 'blue', alpha = 0.6 , linewidth = 4 )\n",
    "plt.plot(rsq_test ,\"bo-\", label = r'$R^2$ Training dataset', color = 'green', alpha = 0.6 , linewidth = 4 )\n",
    "plt.ylabel(r'$R^2$')\n",
    "plt.xlabel(\"lambda\")"
   ]
  },
  {
   "cell_type": "code",
   "execution_count": 24,
   "id": "8355bb0f",
   "metadata": {},
   "outputs": [
    {
     "data": {
      "text/plain": [
       "array([ 140.22385054,  667.56696183,  141.94400691,  395.33743641,\n",
       "        483.80558383,  536.21443939,  391.22853518, 1306.23301996,\n",
       "        382.18911539,  442.96518   ])"
      ]
     },
     "execution_count": 24,
     "metadata": {},
     "output_type": "execute_result"
    }
   ],
   "source": [
    "#making prediction on testing data\n",
    "\n",
    "y_pred = classifier.predict(x_test)\n",
    "y_pred"
   ]
  },
  {
   "cell_type": "code",
   "execution_count": null,
   "id": "de404b0b",
   "metadata": {},
   "outputs": [],
   "source": [
    "#the r squared of the prediction\n"
   ]
  },
  {
   "cell_type": "code",
   "execution_count": 25,
   "id": "34954063",
   "metadata": {},
   "outputs": [
    {
     "data": {
      "text/plain": [
       "99.2831746256178"
      ]
     },
     "execution_count": 25,
     "metadata": {},
     "output_type": "execute_result"
    }
   ],
   "source": [
    "rsq_test = r2_score(y_test,y_pred)*100\n",
    "rsq_test"
   ]
  },
  {
   "cell_type": "code",
   "execution_count": 26,
   "id": "70300957",
   "metadata": {},
   "outputs": [],
   "source": [
    "from sklearn.metrics import mean_squared_error\n",
    "\n"
   ]
  },
  {
   "cell_type": "code",
   "execution_count": 27,
   "id": "b2161748",
   "metadata": {},
   "outputs": [
    {
     "data": {
      "text/plain": [
       "25.504657713236238"
      ]
     },
     "execution_count": 27,
     "metadata": {},
     "output_type": "execute_result"
    }
   ],
   "source": [
    "#rmse on the testing data\n",
    "\n",
    "rmse_test = np.sqrt(mean_squared_error(y_test,y_pred))\n",
    "rmse_test\n"
   ]
  },
  {
   "cell_type": "code",
   "execution_count": 28,
   "id": "f3794319",
   "metadata": {},
   "outputs": [],
   "source": [
    "#the rmse on the training dataset\n",
    "#predicting on the training data\n",
    "y_predict_train = classifier.predict(x_train)\n"
   ]
  },
  {
   "cell_type": "code",
   "execution_count": 29,
   "id": "d6b80e97",
   "metadata": {},
   "outputs": [
    {
     "data": {
      "text/plain": [
       "23.884415668838532"
      ]
     },
     "execution_count": 29,
     "metadata": {},
     "output_type": "execute_result"
    }
   ],
   "source": [
    "rmse_train = np.sqrt(mean_squared_error(y_train,y_predict_train))\n",
    "rmse_train\n"
   ]
  },
  {
   "cell_type": "code",
   "execution_count": 30,
   "id": "663e4e37",
   "metadata": {},
   "outputs": [],
   "source": [
    "#model tuning using elaticnetcv\n",
    "from sklearn.linear_model import ElasticNetCV\n",
    "\n"
   ]
  },
  {
   "cell_type": "code",
   "execution_count": 31,
   "id": "46ffe57c",
   "metadata": {},
   "outputs": [],
   "source": [
    "#10 folds CV\n",
    "\n",
    "Classifier_cv = ElasticNetCV(alphas = np.random.randint(0 ,100 ,10), cv = 10).fit(x_train,y_train)"
   ]
  },
  {
   "cell_type": "code",
   "execution_count": 32,
   "id": "e6af64e2",
   "metadata": {},
   "outputs": [
    {
     "data": {
      "text/plain": [
       "array([37, 56, 73, 28, 51, 60, 94, 15, 24, 18])"
      ]
     },
     "execution_count": 32,
     "metadata": {},
     "output_type": "execute_result"
    }
   ],
   "source": [
    "#printing the scores\n",
    "\n",
    "Classifier_cv.alphas"
   ]
  },
  {
   "cell_type": "code",
   "execution_count": 76,
   "id": "471ad88c",
   "metadata": {},
   "outputs": [
    {
     "data": {
      "text/html": [
       "<style>#sk-container-id-1 {color: black;background-color: white;}#sk-container-id-1 pre{padding: 0;}#sk-container-id-1 div.sk-toggleable {background-color: white;}#sk-container-id-1 label.sk-toggleable__label {cursor: pointer;display: block;width: 100%;margin-bottom: 0;padding: 0.3em;box-sizing: border-box;text-align: center;}#sk-container-id-1 label.sk-toggleable__label-arrow:before {content: \"▸\";float: left;margin-right: 0.25em;color: #696969;}#sk-container-id-1 label.sk-toggleable__label-arrow:hover:before {color: black;}#sk-container-id-1 div.sk-estimator:hover label.sk-toggleable__label-arrow:before {color: black;}#sk-container-id-1 div.sk-toggleable__content {max-height: 0;max-width: 0;overflow: hidden;text-align: left;background-color: #f0f8ff;}#sk-container-id-1 div.sk-toggleable__content pre {margin: 0.2em;color: black;border-radius: 0.25em;background-color: #f0f8ff;}#sk-container-id-1 input.sk-toggleable__control:checked~div.sk-toggleable__content {max-height: 200px;max-width: 100%;overflow: auto;}#sk-container-id-1 input.sk-toggleable__control:checked~label.sk-toggleable__label-arrow:before {content: \"▾\";}#sk-container-id-1 div.sk-estimator input.sk-toggleable__control:checked~label.sk-toggleable__label {background-color: #d4ebff;}#sk-container-id-1 div.sk-label input.sk-toggleable__control:checked~label.sk-toggleable__label {background-color: #d4ebff;}#sk-container-id-1 input.sk-hidden--visually {border: 0;clip: rect(1px 1px 1px 1px);clip: rect(1px, 1px, 1px, 1px);height: 1px;margin: -1px;overflow: hidden;padding: 0;position: absolute;width: 1px;}#sk-container-id-1 div.sk-estimator {font-family: monospace;background-color: #f0f8ff;border: 1px dotted black;border-radius: 0.25em;box-sizing: border-box;margin-bottom: 0.5em;}#sk-container-id-1 div.sk-estimator:hover {background-color: #d4ebff;}#sk-container-id-1 div.sk-parallel-item::after {content: \"\";width: 100%;border-bottom: 1px solid gray;flex-grow: 1;}#sk-container-id-1 div.sk-label:hover label.sk-toggleable__label {background-color: #d4ebff;}#sk-container-id-1 div.sk-serial::before {content: \"\";position: absolute;border-left: 1px solid gray;box-sizing: border-box;top: 0;bottom: 0;left: 50%;z-index: 0;}#sk-container-id-1 div.sk-serial {display: flex;flex-direction: column;align-items: center;background-color: white;padding-right: 0.2em;padding-left: 0.2em;position: relative;}#sk-container-id-1 div.sk-item {position: relative;z-index: 1;}#sk-container-id-1 div.sk-parallel {display: flex;align-items: stretch;justify-content: center;background-color: white;position: relative;}#sk-container-id-1 div.sk-item::before, #sk-container-id-1 div.sk-parallel-item::before {content: \"\";position: absolute;border-left: 1px solid gray;box-sizing: border-box;top: 0;bottom: 0;left: 50%;z-index: -1;}#sk-container-id-1 div.sk-parallel-item {display: flex;flex-direction: column;z-index: 1;position: relative;background-color: white;}#sk-container-id-1 div.sk-parallel-item:first-child::after {align-self: flex-end;width: 50%;}#sk-container-id-1 div.sk-parallel-item:last-child::after {align-self: flex-start;width: 50%;}#sk-container-id-1 div.sk-parallel-item:only-child::after {width: 0;}#sk-container-id-1 div.sk-dashed-wrapped {border: 1px dashed gray;margin: 0 0.4em 0.5em 0.4em;box-sizing: border-box;padding-bottom: 0.4em;background-color: white;}#sk-container-id-1 div.sk-label label {font-family: monospace;font-weight: bold;display: inline-block;line-height: 1.2em;}#sk-container-id-1 div.sk-label-container {text-align: center;}#sk-container-id-1 div.sk-container {/* jupyter's `normalize.less` sets `[hidden] { display: none; }` but bootstrap.min.css set `[hidden] { display: none !important; }` so we also need the `!important` here to be able to override the default hidden behavior on the sphinx rendered scikit-learn.org. See: https://github.com/scikit-learn/scikit-learn/issues/21755 */display: inline-block !important;position: relative;}#sk-container-id-1 div.sk-text-repr-fallback {display: none;}</style><div id=\"sk-container-id-1\" class=\"sk-top-container\"><div class=\"sk-text-repr-fallback\"><pre>ElasticNetCV(alphas=array([64, 35, 86,  4, 88, 14, 50, 74, 72, 36]), cv=10)</pre><b>In a Jupyter environment, please rerun this cell to show the HTML representation or trust the notebook. <br />On GitHub, the HTML representation is unable to render, please try loading this page with nbviewer.org.</b></div><div class=\"sk-container\" hidden><div class=\"sk-item\"><div class=\"sk-estimator sk-toggleable\"><input class=\"sk-toggleable__control sk-hidden--visually\" id=\"sk-estimator-id-1\" type=\"checkbox\" checked><label for=\"sk-estimator-id-1\" class=\"sk-toggleable__label sk-toggleable__label-arrow\">ElasticNetCV</label><div class=\"sk-toggleable__content\"><pre>ElasticNetCV(alphas=array([64, 35, 86,  4, 88, 14, 50, 74, 72, 36]), cv=10)</pre></div></div></div></div></div>"
      ],
      "text/plain": [
       "ElasticNetCV(alphas=array([64, 35, 86,  4, 88, 14, 50, 74, 72, 36]), cv=10)"
      ]
     },
     "execution_count": 76,
     "metadata": {},
     "output_type": "execute_result"
    }
   ],
   "source": [
    "Classifier_cv"
   ]
  },
  {
   "cell_type": "code",
   "execution_count": 33,
   "id": "e179935b",
   "metadata": {},
   "outputs": [
    {
     "data": {
      "text/plain": [
       "15"
      ]
     },
     "execution_count": 33,
     "metadata": {},
     "output_type": "execute_result"
    }
   ],
   "source": [
    "Classifier_cv.alpha_"
   ]
  },
  {
   "cell_type": "code",
   "execution_count": 34,
   "id": "58ce50cd",
   "metadata": {},
   "outputs": [],
   "source": [
    "#creating a new model with optimum alpha\n",
    "Classifier_tuned = ElasticNet().set_params(alpha = Classifier_cv.alpha_).fit(x_train,y_train)\n"
   ]
  },
  {
   "cell_type": "code",
   "execution_count": 35,
   "id": "7d35f063",
   "metadata": {},
   "outputs": [],
   "source": [
    "#predicting on the testing data\n",
    "\n",
    "y_pred_tune = Classifier_tuned.predict(x_test)"
   ]
  },
  {
   "cell_type": "code",
   "execution_count": 36,
   "id": "74f56e5f",
   "metadata": {},
   "outputs": [],
   "source": [
    "#computing the rmse\n",
    "\n",
    "rmse_tuned = np.sqrt(mean_squared_error(y_test, y_pred_tune))"
   ]
  },
  {
   "cell_type": "code",
   "execution_count": 38,
   "id": "2c48abb9",
   "metadata": {},
   "outputs": [
    {
     "data": {
      "text/plain": [
       "22.124581101945097"
      ]
     },
     "execution_count": 38,
     "metadata": {},
     "output_type": "execute_result"
    }
   ],
   "source": [
    "rmse_tuned"
   ]
  },
  {
   "cell_type": "code",
   "execution_count": null,
   "id": "f29a2e28",
   "metadata": {},
   "outputs": [],
   "source": []
  }
 ],
 "metadata": {
  "kernelspec": {
   "display_name": "Python 3 (ipykernel)",
   "language": "python",
   "name": "python3"
  },
  "language_info": {
   "codemirror_mode": {
    "name": "ipython",
    "version": 3
   },
   "file_extension": ".py",
   "mimetype": "text/x-python",
   "name": "python",
   "nbconvert_exporter": "python",
   "pygments_lexer": "ipython3",
   "version": "3.10.4"
  }
 },
 "nbformat": 4,
 "nbformat_minor": 5
}
